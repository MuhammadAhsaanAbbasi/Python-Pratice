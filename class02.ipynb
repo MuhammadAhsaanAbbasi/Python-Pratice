{
 "cells": [
  {
   "cell_type": "markdown",
   "metadata": {},
   "source": [
    "# list And It's Mehtod"
   ]
  },
  {
   "cell_type": "code",
   "execution_count": 4,
   "metadata": {},
   "outputs": [
    {
     "name": "stdout",
     "output_type": "stream",
     "text": [
      "Mujeeb is a husband of Rawa\n",
      "I Love Hijabie\n"
     ]
    }
   ],
   "source": [
    "from typing import Any\n",
    "name:list[Any]=[\"Hijabie\",\"Fajar\",\"Rawa\"]\n",
    "print(f'Mujeeb is a husband of {name[-1]}')\n",
    "print(f'I Love {name[0]}')"
   ]
  },
  {
   "cell_type": "code",
   "execution_count": 23,
   "metadata": {},
   "outputs": [
    {
     "name": "stdout",
     "output_type": "stream",
     "text": [
      "['A', 'B', 'C', 'D', 'E', 'F', 'G', 'H', 'I', 'J', 'K', 'L', 'M', 'N', 'O', 'P', 'Q', 'R', 'S', 'T', 'U', 'V', 'W', 'X', 'Y', 'Z']\n",
      "['A', 'C']\n",
      "['A', 'B']\n",
      "['A', 'B']\n",
      "['A', 'B']\n",
      "['A', 'B']\n",
      "['A', 'C', 'E', 'G', 'I', 'K', 'M', 'O', 'Q', 'S', 'U', 'W', 'Y']\n",
      "['A', 'C', 'E', 'G', 'I']\n",
      "['B', 'D', 'F', 'H', 'J']\n"
     ]
    }
   ],
   "source": [
    "characters:list[str]=['A', 'B', 'C', 'D', 'E', 'F', 'G', 'H', 'I', 'J', 'K', 'L', 'M', 'N', 'O', 'P', 'Q', 'R', 'S', 'T', 'U', 'V', 'W', 'X', 'Y', 'Z']\n",
    "print(characters)\n",
    "print(characters[0:2])\n",
    "print(characters[:2])\n",
    "print(characters[-26:-24])\n",
    "print(characters[0:2:1])\n",
    "print(characters[0:2:])\n",
    "print(characters[::2])\n",
    "print(characters[:10:2])\n",
    "print(characters[1:10:2])"
   ]
  },
  {
   "cell_type": "code",
   "execution_count": 18,
   "metadata": {},
   "outputs": [
    {
     "name": "stdout",
     "output_type": "stream",
     "text": [
      "['A', 'B', 'C', 'D', 'E', 'F', 'G', 'H', 'I', 'J', 'K', 'L', 'M', 'N', 'O', 'P', 'Q', 'R', 'S', 'T', 'U', 'V', 'W', 'X', 'Y', 'Z']\n",
      "['A', 'C', 'E', 'G', 'I', 'K', 'M', 'O', 'Q', 'S', 'U', 'W', 'Y']\n",
      "['Z', 'Y', 'X', 'W', 'V', 'U', 'T', 'S', 'R', 'Q', 'P', 'O', 'N', 'M', 'L', 'K', 'J', 'I', 'H', 'G', 'F', 'E', 'D', 'C', 'B', 'A']\n",
      "['A', 'C', 'E', 'G', 'I']\n",
      "['B', 'D', 'F', 'H', 'J']\n"
     ]
    }
   ],
   "source": [
    "characters:list[str]=['A', 'B', 'C', 'D', 'E', 'F', 'G', 'H', 'I', 'J', 'K', 'L', 'M', 'N', 'O', 'P', 'Q', 'R', 'S', 'T', 'U', 'V', 'W', 'X', 'Y', 'Z']\n",
    "print(characters)\n",
    "\n",
    "print(characters[::2])\n",
    "print(characters[::-1])\n",
    "print(characters[:10:2])\n",
    "print(characters[1:10:2])"
   ]
  },
  {
   "cell_type": "code",
   "execution_count": 20,
   "metadata": {},
   "outputs": [
    {
     "name": "stdout",
     "output_type": "stream",
     "text": [
      "['C', 'D', 'E', 'F', 'G']\n",
      "[]\n",
      "['I', 'H', 'G']\n",
      "['A', 'B', 'C', 'D', 'E', 'F', 'G', 'H', 'I', 'J']\n"
     ]
    }
   ],
   "source": [
    "characters:list[str]=['A', 'B', 'C', 'D', 'E', 'F', 'G', 'H', 'I', 'J']\n",
    "print(characters[2:-3])\n",
    "print(characters[-2:-5])\n",
    "print(characters[-2:-5:-1])\n",
    "print(characters)\n"
   ]
  },
  {
   "cell_type": "markdown",
   "metadata": {},
   "source": [
    "# Datatypes\n",
    "* Mutable\n",
    "* inmutable "
   ]
  },
  {
   "cell_type": "code",
   "execution_count": 28,
   "metadata": {},
   "outputs": [
    {
     "name": "stdout",
     "output_type": "stream",
     "text": [
      "['Hijabie', 'Fajar Rabail Khan', 'riv khan']\n",
      "['Hijab Rabail Khan', 'Fajar Rabail Khan', 'riv khan']\n"
     ]
    }
   ],
   "source": [
    "names:list[Any]=[\"Hijabie\",\"Fajar Rabail Khan\",\"riv khan\"]\n",
    "print(names)\n",
    "names[0]=\"Hijab Rabail Khan\"\n",
    "print(names)"
   ]
  },
  {
   "cell_type": "code",
   "execution_count": 34,
   "metadata": {},
   "outputs": [
    {
     "name": "stdout",
     "output_type": "stream",
     "text": [
      "['Hijabie', 'Fajar Rabail Khan', 'riv khan', 'Mujeeb']\n",
      "['Hijabie', 'Fajar Rabail Khan', 'riv khan']\n"
     ]
    }
   ],
   "source": [
    "names:list[Any]=[\"Hijabie\",\"Fajar Rabail Khan\",\"riv khan\",\"Mujeeb\"]\n",
    "print(names)\n",
    "del names[3]\n",
    "print(names)"
   ]
  },
  {
   "cell_type": "markdown",
   "metadata": {},
   "source": [
    "# List Methods"
   ]
  },
  {
   "cell_type": "code",
   "execution_count": 3,
   "metadata": {},
   "outputs": [
    {
     "name": "stdout",
     "output_type": "stream",
     "text": [
      "['Hijabie', 'Fajar Rabail Khan', 'riv khan', 'Mujeeb']\n",
      "Fajar Rabail Khan\n"
     ]
    }
   ],
   "source": [
    "#Pop \n",
    "names:list[str]=[\"Hijabie\",\"Fajar Rabail Khan\",\"riv khan\",\"Mujeeb\"]\n",
    "print(names)\n",
    "a:str=names.pop(1)\n",
    "print(a)"
   ]
  },
  {
   "cell_type": "code",
   "execution_count": 5,
   "metadata": {},
   "outputs": [
    {
     "name": "stdout",
     "output_type": "stream",
     "text": [
      "[]\n",
      "['Hijabie', 'Ahsaan', 'riv Khan', 'Mujeeb']\n"
     ]
    }
   ],
   "source": [
    "#Append\n",
    "names:list[str]=[]\n",
    "print(names)\n",
    "names.append(\"Hijabie\")\n",
    "names.append(\"Ahsaan\")\n",
    "names.append(\"riv Khan\")\n",
    "names.append(\"Mujeeb\")\n",
    "print(names)"
   ]
  },
  {
   "cell_type": "code",
   "execution_count": 6,
   "metadata": {},
   "outputs": [
    {
     "name": "stdout",
     "output_type": "stream",
     "text": [
      "['Hijabie', 'Fajar Rabail Khan', 'riv khan', 'Mujeeb']\n",
      "['Hijabie', 'Ahsaan Abbasi', 'Fajar Rabail Khan', 'Salah u Din', 'riv khan', 'Mujeeb']\n"
     ]
    }
   ],
   "source": [
    "#insert\n",
    "names:list[str]=[\"Hijabie\",\"Fajar Rabail Khan\",\"riv khan\",\"Mujeeb\"]\n",
    "print(names)\n",
    "names.insert(1,\"Ahsaan Abbasi\")\n",
    "names.insert(3,\"Salah u Din\")\n",
    "print(names)"
   ]
  },
  {
   "cell_type": "code",
   "execution_count": 7,
   "metadata": {},
   "outputs": [
    {
     "name": "stdout",
     "output_type": "stream",
     "text": [
      "[]\n"
     ]
    }
   ],
   "source": [
    "#clear\n",
    "a:list[int]=[1,2,3,5]\n",
    "a.clear()\n",
    "print(a)"
   ]
  },
  {
   "cell_type": "code",
   "execution_count": 10,
   "metadata": {},
   "outputs": [
    {
     "name": "stdout",
     "output_type": "stream",
     "text": [
      "['a', 'b', 'c']\n",
      "['a', 'b', 'c']\n",
      "a ['a', 'b', 'c']\n",
      "b ['Abbasi', 'b', 'c']\n"
     ]
    }
   ],
   "source": [
    "#copy\n",
    "a:list[str]=[\"a\",\"b\",\"c\"]\n",
    "# b=a  #Shallow Copy if any change happen in one variable so it's change effect on other variable also\n",
    "b=a.copy()   #Deep Copy if any change in b variable so it's doesn't effect on a\n",
    "print(a)\n",
    "print(b)\n",
    "b[0]=\"Abbasi\"\n",
    "print(\"a\", a)\n",
    "print(\"b\", b)"
   ]
  },
  {
   "cell_type": "code",
   "execution_count": 11,
   "metadata": {},
   "outputs": [
    {
     "data": {
      "text/plain": [
       "3"
      ]
     },
     "execution_count": 11,
     "metadata": {},
     "output_type": "execute_result"
    }
   ],
   "source": [
    "#Count\n",
    "a:list[str]=['a','b','c','d','a','a','c']\n",
    "a.count('a')"
   ]
  },
  {
   "cell_type": "code",
   "execution_count": 13,
   "metadata": {},
   "outputs": [
    {
     "name": "stdout",
     "output_type": "stream",
     "text": [
      "['Hijabie', 'Fajar Rabail Khan', 'riv khan', 'Ahsaan', 'Salahudin', 'Mujeeb']\n"
     ]
    }
   ],
   "source": [
    "#Extend\n",
    "names:list[str]=[\"Hijabie\",\"Fajar Rabail Khan\",\"riv khan\",]\n",
    "new_members:list[str]=[\"Ahsaan\",\"Salahudin\",\"Mujeeb\"]\n",
    "names.extend(new_members)\n",
    "print(names)\n"
   ]
  },
  {
   "cell_type": "code",
   "execution_count": 5,
   "metadata": {},
   "outputs": [],
   "source": [
    "#Removes\n",
    "names:list[str]=['Hijabie', 'Fajar Rabail Khan', 'riv khan', 'Ahsaan', 'Salahudin', 'Mujeeb']\n",
    "print(names)\n",
    "names.remove(\"Salahudin\")\n",
    "print(names)"
   ]
  },
  {
   "cell_type": "code",
   "execution_count": 8,
   "metadata": {},
   "outputs": [
    {
     "data": {
      "text/plain": [
       "6"
      ]
     },
     "execution_count": 8,
     "metadata": {},
     "output_type": "execute_result"
    }
   ],
   "source": [
    "#INdex\n",
    "names:list[str]=['Hijabie', 'Fajar Rabail Khan', 'riv khan', 'Ahsaan', 'Salahudin', 'Mujeeb',\"Hijabie\"]\n",
    "names.index(\"Hijabie\")\n",
    "names.index(\"Hijabie\",2)"
   ]
  },
  {
   "cell_type": "code",
   "execution_count": 9,
   "metadata": {},
   "outputs": [
    {
     "name": "stdout",
     "output_type": "stream",
     "text": [
      "['Hijabie', 'Fajar Rabail Khan', 'riv khan', 'Ahsaan', 'Salahudin', 'Mujeeb']\n",
      "['Mujeeb', 'Salahudin', 'Ahsaan', 'riv khan', 'Fajar Rabail Khan', 'Hijabie']\n"
     ]
    }
   ],
   "source": [
    "#Reverse\n",
    "names:list[str]=['Hijabie', 'Fajar Rabail Khan', 'riv khan', 'Ahsaan', 'Salahudin', 'Mujeeb']\n",
    "print(names)\n",
    "names.reverse()\n",
    "print(names)"
   ]
  },
  {
   "cell_type": "code",
   "execution_count": 11,
   "metadata": {},
   "outputs": [
    {
     "name": "stdout",
     "output_type": "stream",
     "text": [
      "['Hijabie', 'Fajar Rabail Khan', 'riv khan', 'Ahsaan', 'Salahudin', 'Mujeeb']\n",
      "['Ahsaan', 'Fajar Rabail Khan', 'Hijabie', 'Mujeeb', 'Salahudin', 'riv khan']\n",
      "['riv khan', 'Salahudin', 'Mujeeb', 'Hijabie', 'Fajar Rabail Khan', 'Ahsaan']\n"
     ]
    }
   ],
   "source": [
    "#Sort\n",
    "names:list[str]=['Hijabie', 'Fajar Rabail Khan', 'riv khan', 'Ahsaan', 'Salahudin', 'Mujeeb']\n",
    "print(names)\n",
    "names.sort()\n",
    "print(names)\n",
    "\n",
    "#Sort Reverse\n",
    "names.sort(reverse=True)\n",
    "print(names)"
   ]
  }
 ],
 "metadata": {
  "kernelspec": {
   "display_name": "python12",
   "language": "python",
   "name": "python3"
  },
  "language_info": {
   "codemirror_mode": {
    "name": "ipython",
    "version": 3
   },
   "file_extension": ".py",
   "mimetype": "text/x-python",
   "name": "python",
   "nbconvert_exporter": "python",
   "pygments_lexer": "ipython3",
   "version": "3.12.0"
  }
 },
 "nbformat": 4,
 "nbformat_minor": 2
}
