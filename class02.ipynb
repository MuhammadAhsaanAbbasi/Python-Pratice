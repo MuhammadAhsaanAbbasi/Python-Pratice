{
 "cells": [
  {
   "cell_type": "markdown",
   "metadata": {},
   "source": [
    "# list And It's Mehtod"
   ]
  },
  {
   "cell_type": "code",
   "execution_count": 4,
   "metadata": {},
   "outputs": [
    {
     "name": "stdout",
     "output_type": "stream",
     "text": [
      "Mujeeb is a husband of Rawa\n",
      "I Love Hijabie\n"
     ]
    }
   ],
   "source": [
    "from typing import Any\n",
    "name:list[Any]=[\"Hijabie\",\"Fajar\",\"Rawa\"]\n",
    "print(f'Mujeeb is a husband of {name[-1]}')\n",
    "print(f'I Love {name[0]}')"
   ]
  },
  {
   "cell_type": "code",
   "execution_count": 23,
   "metadata": {},
   "outputs": [
    {
     "name": "stdout",
     "output_type": "stream",
     "text": [
      "['A', 'B', 'C', 'D', 'E', 'F', 'G', 'H', 'I', 'J', 'K', 'L', 'M', 'N', 'O', 'P', 'Q', 'R', 'S', 'T', 'U', 'V', 'W', 'X', 'Y', 'Z']\n",
      "['A', 'C']\n",
      "['A', 'B']\n",
      "['A', 'B']\n",
      "['A', 'B']\n",
      "['A', 'B']\n",
      "['A', 'C', 'E', 'G', 'I', 'K', 'M', 'O', 'Q', 'S', 'U', 'W', 'Y']\n",
      "['A', 'C', 'E', 'G', 'I']\n",
      "['B', 'D', 'F', 'H', 'J']\n"
     ]
    }
   ],
   "source": [
    "characters:list[str]=['A', 'B', 'C', 'D', 'E', 'F', 'G', 'H', 'I', 'J', 'K', 'L', 'M', 'N', 'O', 'P', 'Q', 'R', 'S', 'T', 'U', 'V', 'W', 'X', 'Y', 'Z']\n",
    "print(characters)\n",
    "print(characters[0:2])\n",
    "print(characters[:2])\n",
    "print(characters[-26:-24])\n",
    "print(characters[0:2:1])\n",
    "print(characters[0:2:])\n",
    "print(characters[::2])\n",
    "print(characters[:10:2])\n",
    "print(characters[1:10:2])"
   ]
  },
  {
   "cell_type": "code",
   "execution_count": 18,
   "metadata": {},
   "outputs": [
    {
     "name": "stdout",
     "output_type": "stream",
     "text": [
      "['A', 'B', 'C', 'D', 'E', 'F', 'G', 'H', 'I', 'J', 'K', 'L', 'M', 'N', 'O', 'P', 'Q', 'R', 'S', 'T', 'U', 'V', 'W', 'X', 'Y', 'Z']\n",
      "['A', 'C', 'E', 'G', 'I', 'K', 'M', 'O', 'Q', 'S', 'U', 'W', 'Y']\n",
      "['Z', 'Y', 'X', 'W', 'V', 'U', 'T', 'S', 'R', 'Q', 'P', 'O', 'N', 'M', 'L', 'K', 'J', 'I', 'H', 'G', 'F', 'E', 'D', 'C', 'B', 'A']\n",
      "['A', 'C', 'E', 'G', 'I']\n",
      "['B', 'D', 'F', 'H', 'J']\n"
     ]
    }
   ],
   "source": [
    "characters:list[str]=['A', 'B', 'C', 'D', 'E', 'F', 'G', 'H', 'I', 'J', 'K', 'L', 'M', 'N', 'O', 'P', 'Q', 'R', 'S', 'T', 'U', 'V', 'W', 'X', 'Y', 'Z']\n",
    "print(characters)\n",
    "\n",
    "print(characters[::2])\n",
    "print(characters[::-1])\n",
    "print(characters[:10:2])\n",
    "print(characters[1:10:2])"
   ]
  },
  {
   "cell_type": "code",
   "execution_count": 20,
   "metadata": {},
   "outputs": [
    {
     "name": "stdout",
     "output_type": "stream",
     "text": [
      "['C', 'D', 'E', 'F', 'G']\n",
      "[]\n",
      "['I', 'H', 'G']\n",
      "['A', 'B', 'C', 'D', 'E', 'F', 'G', 'H', 'I', 'J']\n"
     ]
    }
   ],
   "source": [
    "characters:list[str]=['A', 'B', 'C', 'D', 'E', 'F', 'G', 'H', 'I', 'J']\n",
    "print(characters[2:-3])\n",
    "print(characters[-2:-5])\n",
    "print(characters[-2:-5:-1])\n",
    "print(characters)\n"
   ]
  },
  {
   "cell_type": "markdown",
   "metadata": {},
   "source": [
    "# Datatypes\n",
    "* Mutable\n",
    "* inmutable "
   ]
  },
  {
   "cell_type": "code",
   "execution_count": 28,
   "metadata": {},
   "outputs": [
    {
     "name": "stdout",
     "output_type": "stream",
     "text": [
      "['Hijabie', 'Fajar Rabail Khan', 'riv khan']\n",
      "['Hijab Rabail Khan', 'Fajar Rabail Khan', 'riv khan']\n"
     ]
    }
   ],
   "source": [
    "names:list[Any]=[\"Hijabie\",\"Fajar Rabail Khan\",\"riv khan\"]\n",
    "print(names)\n",
    "names[0]=\"Hijab Rabail Khan\"\n",
    "print(names)"
   ]
  },
  {
   "cell_type": "code",
   "execution_count": 34,
   "metadata": {},
   "outputs": [
    {
     "name": "stdout",
     "output_type": "stream",
     "text": [
      "['Hijabie', 'Fajar Rabail Khan', 'riv khan', 'Mujeeb']\n",
      "['Hijabie', 'Fajar Rabail Khan', 'riv khan']\n"
     ]
    }
   ],
   "source": [
    "names:list[Any]=[\"Hijabie\",\"Fajar Rabail Khan\",\"riv khan\",\"Mujeeb\"]\n",
    "print(names)\n",
    "del names[3]\n",
    "print(names)"
   ]
  },
  {
   "cell_type": "markdown",
   "metadata": {},
   "source": [
    "# List Methods"
   ]
  },
  {
   "cell_type": "code",
   "execution_count": 3,
   "metadata": {},
   "outputs": [
    {
     "name": "stdout",
     "output_type": "stream",
     "text": [
      "['Hijabie', 'Fajar Rabail Khan', 'riv khan', 'Mujeeb']\n",
      "Fajar Rabail Khan\n"
     ]
    }
   ],
   "source": [
    "#Pop \n",
    "names:list[str]=[\"Hijabie\",\"Fajar Rabail Khan\",\"riv khan\",\"Mujeeb\"]\n",
    "print(names)\n",
    "a:str=names.pop(1)\n",
    "print(a)"
   ]
  },
  {
   "cell_type": "code",
   "execution_count": 5,
   "metadata": {},
   "outputs": [
    {
     "name": "stdout",
     "output_type": "stream",
     "text": [
      "[]\n",
      "['Hijabie', 'Ahsaan', 'riv Khan', 'Mujeeb']\n"
     ]
    }
   ],
   "source": [
    "#Append\n",
    "names:list[str]=[]\n",
    "print(names)\n",
    "names.append(\"Hijabie\")\n",
    "names.append(\"Ahsaan\")\n",
    "names.append(\"riv Khan\")\n",
    "names.append(\"Mujeeb\")\n",
    "print(names)"
   ]
  },
  {
   "cell_type": "code",
   "execution_count": 6,
   "metadata": {},
   "outputs": [
    {
     "name": "stdout",
     "output_type": "stream",
     "text": [
      "['Hijabie', 'Fajar Rabail Khan', 'riv khan', 'Mujeeb']\n",
      "['Hijabie', 'Ahsaan Abbasi', 'Fajar Rabail Khan', 'Salah u Din', 'riv khan', 'Mujeeb']\n"
     ]
    }
   ],
   "source": [
    "#insert\n",
    "names:list[str]=[\"Hijabie\",\"Fajar Rabail Khan\",\"riv khan\",\"Mujeeb\"]\n",
    "print(names)\n",
    "names.insert(1,\"Ahsaan Abbasi\")\n",
    "names.insert(3,\"Salah u Din\")\n",
    "print(names)"
   ]
  },
  {
   "cell_type": "code",
   "execution_count": 7,
   "metadata": {},
   "outputs": [
    {
     "name": "stdout",
     "output_type": "stream",
     "text": [
      "[]\n"
     ]
    }
   ],
   "source": [
    "#clear\n",
    "a:list[int]=[1,2,3,5]\n",
    "a.clear()\n",
    "print(a)"
   ]
  },
  {
   "cell_type": "code",
   "execution_count": 10,
   "metadata": {},
   "outputs": [
    {
     "name": "stdout",
     "output_type": "stream",
     "text": [
      "['a', 'b', 'c']\n",
      "['a', 'b', 'c']\n",
      "a ['a', 'b', 'c']\n",
      "b ['Abbasi', 'b', 'c']\n"
     ]
    }
   ],
   "source": [
    "#copy\n",
    "a:list[str]=[\"a\",\"b\",\"c\"]\n",
    "# b=a  #Shallow Copy if any change happen in one variable so it's change effect on other variable also\n",
    "b=a.copy()   #Deep Copy if any change in b variable so it's doesn't effect on a\n",
    "print(a)\n",
    "print(b)\n",
    "b[0]=\"Abbasi\"\n",
    "print(\"a\", a)\n",
    "print(\"b\", b)"
   ]
  },
  {
   "cell_type": "code",
   "execution_count": 11,
   "metadata": {},
   "outputs": [
    {
     "data": {
      "text/plain": [
       "3"
      ]
     },
     "execution_count": 11,
     "metadata": {},
     "output_type": "execute_result"
    }
   ],
   "source": [
    "#Count\n",
    "a:list[str]=['a','b','c','d','a','a','c']\n",
    "a.count('a')"
   ]
  },
  {
   "cell_type": "code",
   "execution_count": 13,
   "metadata": {},
   "outputs": [
    {
     "name": "stdout",
     "output_type": "stream",
     "text": [
      "['Hijabie', 'Fajar Rabail Khan', 'riv khan', 'Ahsaan', 'Salahudin', 'Mujeeb']\n"
     ]
    }
   ],
   "source": [
    "#Extend\n",
    "names:list[str]=[\"Hijabie\",\"Fajar Rabail Khan\",\"riv khan\",]\n",
    "new_members:list[str]=[\"Ahsaan\",\"Salahudin\",\"Mujeeb\"]\n",
    "names.extend(new_members)\n",
    "print(names)\n"
   ]
  },
  {
   "cell_type": "code",
   "execution_count": 5,
   "metadata": {},
   "outputs": [],
   "source": [
    "#Removes\n",
    "names:list[str]=['Hijabie', 'Fajar Rabail Khan', 'riv khan', 'Ahsaan', 'Salahudin', 'Mujeeb']\n",
    "print(names)\n",
    "names.remove(\"Salahudin\")\n",
    "print(names)"
   ]
  },
  {
   "cell_type": "code",
   "execution_count": 8,
   "metadata": {},
   "outputs": [
    {
     "data": {
      "text/plain": [
       "6"
      ]
     },
     "execution_count": 8,
     "metadata": {},
     "output_type": "execute_result"
    }
   ],
   "source": [
    "#INdex\n",
    "names:list[str]=['Hijabie', 'Fajar Rabail Khan', 'riv khan', 'Ahsaan', 'Salahudin', 'Mujeeb',\"Hijabie\"]\n",
    "names.index(\"Hijabie\")\n",
    "names.index(\"Hijabie\",2)"
   ]
  },
  {
   "cell_type": "code",
   "execution_count": 9,
   "metadata": {},
   "outputs": [
    {
     "name": "stdout",
     "output_type": "stream",
     "text": [
      "['Hijabie', 'Fajar Rabail Khan', 'riv khan', 'Ahsaan', 'Salahudin', 'Mujeeb']\n",
      "['Mujeeb', 'Salahudin', 'Ahsaan', 'riv khan', 'Fajar Rabail Khan', 'Hijabie']\n"
     ]
    }
   ],
   "source": [
    "#Reverse\n",
    "names:list[str]=['Hijabie', 'Fajar Rabail Khan', 'riv khan', 'Ahsaan', 'Salahudin', 'Mujeeb']\n",
    "print(names)\n",
    "names.reverse()\n",
    "print(names)"
   ]
  },
  {
   "cell_type": "code",
   "execution_count": 11,
   "metadata": {},
   "outputs": [
    {
     "name": "stdout",
     "output_type": "stream",
     "text": [
      "['Hijabie', 'Fajar Rabail Khan', 'riv khan', 'Ahsaan', 'Salahudin', 'Mujeeb']\n",
      "['Ahsaan', 'Fajar Rabail Khan', 'Hijabie', 'Mujeeb', 'Salahudin', 'riv khan']\n",
      "['riv khan', 'Salahudin', 'Mujeeb', 'Hijabie', 'Fajar Rabail Khan', 'Ahsaan']\n"
     ]
    }
   ],
   "source": [
    "#Sort\n",
    "names:list[str]=['Hijabie', 'Fajar Rabail Khan', 'riv khan', 'Ahsaan', 'Salahudin', 'Mujeeb']\n",
    "print(names)\n",
    "names.sort()\n",
    "print(names)\n",
    "\n",
    "#Sort Reverse\n",
    "names.sort(reverse=True)\n",
    "print(names)"
   ]
  },
  {
   "cell_type": "markdown",
   "metadata": {},
   "source": [
    "# Exercise "
   ]
  },
  {
   "cell_type": "code",
   "execution_count": 28,
   "metadata": {},
   "outputs": [
    {
     "name": "stdout",
     "output_type": "stream",
     "text": [
      "Alizay\n",
      "Hijabie\n",
      "Muqqadas\n",
      "Zyab\n",
      "\n",
      "You are my best friend Alizay\n",
      "You are my best friend Hijabie\n",
      "You are my best friend Muqqadas\n",
      "You are my best friend Zyab\n",
      "\n",
      "\n",
      "I would like to buy Honda 125\n",
      "I would like to buy Suzuki 250\n",
      "I would like to buy Civic\n",
      "I would like to buy Merecedes-Benz Sl550\n",
      "\n",
      "[]\n"
     ]
    }
   ],
   "source": [
    "#Exersice 3.1\n",
    "\n",
    "names:list[str]=[\"Alizay\",\"Hijabie\",\"Muqqadas\",\"Zyab\"]\n",
    "print(names[0])\n",
    "print(names[1])\n",
    "print(names[2])\n",
    "print(names[3])\n",
    "\n",
    "#Exersice 3.2\n",
    "message:str=f\"\"\"\n",
    "You are my best friend {names[0].title()}\n",
    "You are my best friend {names[1].title()}\n",
    "You are my best friend {names[2].title()}\n",
    "You are my best friend {names[3].title()}\n",
    "\"\"\"\n",
    "print(message)\n",
    "\n",
    "transport:list[str]=[\"Honda 125\",\"Suzuki 250\",\"Civic\",\"Merecedes-Benz sl550\"]\n",
    "message:str=f\"\"\"\n",
    "I would like to buy {transport[0].title()}\n",
    "I would like to buy {transport[1].title()}\n",
    "I would like to buy {transport[2].title()}\n",
    "I would like to buy {transport[3].title()}\n",
    "\"\"\"\n",
    "print(message)\n",
    "del transport[:]\n",
    "print(transport)\n",
    "\n"
   ]
  },
  {
   "cell_type": "code",
   "execution_count": 82,
   "metadata": {},
   "outputs": [
    {
     "name": "stdout",
     "output_type": "stream",
     "text": [
      "\n",
      "I Would Like You Alizay Invite On A Dinner\n",
      "I Would Like You Muqqadas Invite On A Dinner\n",
      "I Would Like You Zyab Invite On A Dinner\n",
      "\n",
      "Due to some issue Alizay is not coming\n",
      "\n",
      "I Would Like You Hijabie Invite On A Dinner\n",
      "I Would Like You Muqqadas Invite On A Dinner\n",
      "I Would Like You Zyab Invite On A Dinner\n",
      "\n",
      "So guys i found a big table so i invite more three friends\n",
      "\n",
      "I Would Like You Fajar Invite On A Dinner\n",
      "I Would Like You Hijabie Invite On A Dinner\n",
      "I Would Like You Muqqadas Invite On A Dinner\n",
      "I Would Like You Mustafa Invite On A Dinner\n",
      "I Would Like You Zyab Invite On A Dinner\n",
      "I Would Like You Hamzah Invite On A Dinner\n",
      "\n",
      "Sorry Guys! I invite only two people for dinner.\n",
      "I'm sorry Mustafa you can’t invite them to dinner\n",
      "I'm sorry Zyab you can’t invite them to dinner\n",
      "I'm sorry Fajar you can’t invite them to dinner\n",
      "I'm sorry Hamzah you can’t invite them to dinner\n",
      "\n",
      "I Would Like You Hijabie Invite On A Dinner\n",
      "I Would Like You Muqqadas Invite On A Dinner\n",
      "\n",
      "Remaning Guests: ['Hijabie', 'Muqqadas']\n"
     ]
    }
   ],
   "source": [
    "#Exersice 3.4\n",
    "guest:list[str]=[\"Alizay\",\"Muqqadas\",\"Zyab\"]\n",
    "message:str=f\"\"\"\n",
    "I would like you {guest[0]} invite on a dinner\n",
    "I would like you {guest[1]} invite on a dinner\n",
    "I would like you {guest[2]} invite on a dinner\n",
    "\"\"\"\n",
    "print(message.title())\n",
    "\n",
    "#Exersice 3.5\n",
    "print(f'Due to some issue {guest[0]} is not coming')\n",
    "guest[0]=\"Hijabie\"\n",
    "message:str=f\"\"\"\n",
    "I would like you {guest[0]} invite on a dinner\n",
    "I would like you {guest[1]} invite on a dinner\n",
    "I would like you {guest[2]} invite on a dinner\n",
    "\"\"\"\n",
    "print(message.title())\n",
    "\n",
    "#Exersice 3.6\n",
    "print(\"So guys i found a big table so i invite more three friends\")\n",
    "\n",
    "guest.insert(0,\"Fajar\")\n",
    "guest.insert(3,\"Mustafa\")\n",
    "guest.append(\"Hamzah\")\n",
    "\n",
    "message:str=f\"\"\"\n",
    "I would like you {guest[0]} invite on a dinner\n",
    "I would like you {guest[1]} invite on a dinner\n",
    "I would like you {guest[2]} invite on a dinner\n",
    "I would like you {guest[3]} invite on a dinner\n",
    "I would like you {guest[4]} invite on a dinner\n",
    "I would like you {guest[5]} invite on a dinner\n",
    "\"\"\"\n",
    "print(message.title())\n",
    "\n",
    "print(\"Sorry Guys! I invite only two people for dinner.\")\n",
    "\n",
    "a  = guest.pop(3)\n",
    "print(f\"I'm sorry {a} you can’t invite them to dinner\")\n",
    "b = guest.pop(3)\n",
    "print(f\"I'm sorry {b} you can’t invite them to dinner\")\n",
    "c = guest.pop(0)\n",
    "print(f\"I'm sorry {c} you can’t invite them to dinner\")\n",
    "d  = guest.pop(2)\n",
    "print(f\"I'm sorry {d} you can’t invite them to dinner\")\n",
    "\n",
    "message:str=f\"\"\"\n",
    "I would like you {guest[0]} invite on a dinner\n",
    "I would like you {guest[1]} invite on a dinner\n",
    "\"\"\"\n",
    "print(message.title())\n",
    "\n",
    "remaininguest=guest.copy()\n",
    "del remaininguest[:]\n",
    "print(\"Remaning Guests:\",remaininguest)"
   ]
  },
  {
   "cell_type": "code",
   "execution_count": 85,
   "metadata": {},
   "outputs": [
    {
     "name": "stdout",
     "output_type": "stream",
     "text": [
      "I have invited only 2 members on dinner\n"
     ]
    }
   ],
   "source": [
    "#Exersice 3.9\n",
    "print(f\"I have invited only {len(guest)} members on dinner\")"
   ]
  },
  {
   "cell_type": "code",
   "execution_count": 79,
   "metadata": {},
   "outputs": [
    {
     "name": "stdout",
     "output_type": "stream",
     "text": [
      "Origianl Order: ['Mecca', 'Madina', 'Jersulum', 'Toronto', 'Istanbul']\n",
      "Sorted Order: ['Istanbul', 'Jersulum', 'Madina', 'Mecca', 'Toronto']\n",
      "Origianl Order: ['Mecca', 'Madina', 'Jersulum', 'Toronto', 'Istanbul']\n",
      "Sorted Reverse Order: ['Toronto', 'Mecca', 'Madina', 'Jersulum', 'Istanbul']\n",
      "Origianl Order: ['Mecca', 'Madina', 'Jersulum', 'Toronto', 'Istanbul']\n",
      "Reverse Order: ['Istanbul', 'Toronto', 'Jersulum', 'Madina', 'Mecca']\n",
      "Again Reverse Order: ['Mecca', 'Madina', 'Jersulum', 'Toronto', 'Istanbul']\n",
      "Sorted Order: ['Istanbul', 'Jersulum', 'Madina', 'Mecca', 'Toronto']\n",
      "Sorted Reverse Order: ['Toronto', 'Mecca', 'Madina', 'Jersulum', 'Istanbul']\n"
     ]
    }
   ],
   "source": [
    "placetovists:list[str]=[\"Mecca\",\"Madina\",\"Jersulum\",\"Toronto\",\"Istanbul\"]\n",
    "\n",
    "print(\"Origianl Order:\", placetovists)\n",
    "\n",
    "print(\"Sorted Order:\", sorted(placetovists))\n",
    "\n",
    "print(\"Origianl Order:\", placetovists)\n",
    "\n",
    "print(\"Sorted Reverse Order:\", sorted(placetovists,reverse=True))\n",
    "\n",
    "print(\"Origianl Order:\", placetovists)\n",
    "\n",
    "placetovists.reverse()\n",
    "print(\"Reverse Order:\", placetovists)\n",
    "\n",
    "placetovists.reverse()\n",
    "print(\"Again Reverse Order:\", placetovists)\n",
    "\n",
    "placetovists.sort()\n",
    "print(\"Sorted Order:\", placetovists)\n",
    "\n",
    "placetovists.sort(reverse=True)\n",
    "print(\"Sorted Reverse Order:\", placetovists)\n"
   ]
  },
  {
   "cell_type": "markdown",
   "metadata": {},
   "source": [
    "# Every function of Lists"
   ]
  },
  {
   "cell_type": "code",
   "execution_count": 94,
   "metadata": {},
   "outputs": [
    {
     "name": "stdout",
     "output_type": "stream",
     "text": [
      "pop_countries: Spain\n",
      "clear_countries: []\n",
      "Copy Countries: ['Pakistan', 'Palestine', 'Arab', 'syria', 'Turkey', 'Afghanistan', 'Iran', 'Iraq', 'Qatar', 'Indonesia']\n",
      "sort_countries: ['Afghanistan', 'Arab', 'Iran', 'Iraq', 'Pakistan', 'Palestine', 'Turkey', 'syria']\n",
      "sort_reverse_countries: ['syria', 'Turkey', 'Palestine', 'Pakistan', 'Iraq', 'Iran', 'Arab', 'Afghanistan']\n",
      "extend_countries: ['Pakistan', 'Palestine', 'Arab', 'syria', 'Turkey', 'Afghanistan', 'Iran', 'Iraq', 'Qatar', 'Indonesia']\n"
     ]
    }
   ],
   "source": [
    "# Exersice 3.10\n",
    "countries:list[str] = [\"Pakistan\",\"Palestine\",\"Arab\",\"Spain\",\"Turkey\",\"Afghanistan\",\"Iran\"]\n",
    "#Append Function\n",
    "append_countries = countries.append(\"Iraq\")\n",
    "#Insert Function\n",
    "insert_countries = countries.insert(3,\"syria\")\n",
    "#pop Function\n",
    "popped_countries = countries.pop(4)\n",
    "#Sort Function\n",
    "sorted_countries = sorted(countries)\n",
    "#sorted Revrese Function\n",
    "sorted_reversed_countries = sorted(countries,reverse=True)\n",
    "#reversed countries\n",
    "reversed_countries = reversed(countries)\n",
    "#copy Function\n",
    "other_Countries = countries.copy()\n",
    "#clear Function\n",
    "countries.clear()\n",
    "#Extend Function \n",
    "muslim_Countries = [\"Qatar\",\"Indonesia\"]\n",
    "other_Countries.extend(muslim_Countries)\n",
    "\n",
    "\n",
    "print(\"pop_countries:\",popped_countries)\n",
    "print(\"clear_countries:\",countries)\n",
    "print(\"Copy Countries:\",other_Countries)\n",
    "print(\"sort_countries:\",sorted_countries)\n",
    "print(\"sort_reverse_countries:\",sorted_reversed_countries)\n",
    "print(\"extend_countries:\",other_Countries)"
   ]
  }
 ],
 "metadata": {
  "kernelspec": {
   "display_name": "python12",
   "language": "python",
   "name": "python3"
  },
  "language_info": {
   "codemirror_mode": {
    "name": "ipython",
    "version": 3
   },
   "file_extension": ".py",
   "mimetype": "text/x-python",
   "name": "python",
   "nbconvert_exporter": "python",
   "pygments_lexer": "ipython3",
   "version": "3.12.0"
  }
 },
 "nbformat": 4,
 "nbformat_minor": 2
}
