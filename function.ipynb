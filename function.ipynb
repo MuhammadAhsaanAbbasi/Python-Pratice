{
 "cells": [
  {
   "cell_type": "markdown",
   "metadata": {},
   "source": [
    "# Functions\n",
    "* Pre-Define Function\n",
    "   * Provided by in language\n",
    "* User-Define Function\n",
    "   * Custom Function\n",
    "\n",
    "# Components \n",
    "* function declaration\n",
    "   * function name\n",
    "   * parameters\n",
    "     * param:typ*e\n",
    "   * return output type\n",
    "* function body\n",
    "   * any busniess logic wirte here\n",
    "* function Calling \n",
    "   * function(arg1,arg2)\n",
    "\n",
    "# Return and Non-Return Types \n",
    "* Return\n",
    "   * We can Assign this function output in any variable\n",
    "* None-Return\n",
    "   * Only run can't assign value in any variable\n"
   ]
  },
  {
   "cell_type": "code",
   "execution_count": 3,
   "metadata": {},
   "outputs": [
    {
     "name": "stdout",
     "output_type": "stream",
     "text": [
      "telling everyone what you are learning about in this chapter.\n",
      "The Book name is Hijabie\n"
     ]
    }
   ],
   "source": [
    "# Functions \n",
    "# 8-2. Favorite Book: Write a function called favorite_book() that accepts one \n",
    "# parameter, title. The function should print a message, such as One of my \n",
    "# favorite books is Alice in Wonderland. Call the function, making sure to \n",
    "# include a book title as an argument in the function call.\n",
    "\n",
    "# Exercise 8.1\n",
    "def displaymessage()->None:\n",
    "    print(\"telling everyone what you are learning about in this chapter.\")\n",
    "\n",
    "displaymessage()\n",
    "\n",
    "#Exercise 8.2\n",
    "def favourite_book(title):\n",
    "    print(f\"The Book name is {title}\")\n",
    "\n",
    "favourite_book(\"Hijabie\")\n"
   ]
  },
  {
   "cell_type": "markdown",
   "metadata": {},
   "source": [
    "# Positonal Arguments"
   ]
  },
  {
   "cell_type": "code",
   "execution_count": 1,
   "metadata": {},
   "outputs": [],
   "source": [
    "# def names(name:str, age:str) -> str:\n",
    "#     print(f'My Name is {name} and My Age is {age}')\n",
    "#     # return name+age\n",
    "\n",
    "# names(55,\"hijabie\")"
   ]
  },
  {
   "cell_type": "markdown",
   "metadata": {},
   "source": [
    "# Key-Word Arguments"
   ]
  },
  {
   "cell_type": "code",
   "execution_count": 6,
   "metadata": {},
   "outputs": [
    {
     "name": "stdout",
     "output_type": "stream",
     "text": [
      "My Name is hijabie and My Age is 55\n"
     ]
    },
    {
     "data": {
      "text/plain": [
       "'hijabie'"
      ]
     },
     "execution_count": 6,
     "metadata": {},
     "output_type": "execute_result"
    }
   ],
   "source": [
    "from typing import Union \n",
    "def names(name:str, age:int) -> str|int:\n",
    "    print(f'My Name is {name} and My Age is {age}')\n",
    "    return name\n",
    "\n",
    "names(age=55,name=\"hijabie\")"
   ]
  },
  {
   "cell_type": "markdown",
   "metadata": {},
   "source": [
    "# Optional Arguments"
   ]
  },
  {
   "cell_type": "code",
   "execution_count": 7,
   "metadata": {},
   "outputs": [
    {
     "name": "stdout",
     "output_type": "stream",
     "text": [
      "My Name is hijabie and My Age is 20\n"
     ]
    },
    {
     "data": {
      "text/plain": [
       "'hijabie'"
      ]
     },
     "execution_count": 7,
     "metadata": {},
     "output_type": "execute_result"
    }
   ],
   "source": [
    "from typing import Union \n",
    "def names(name:str, age:int=20) -> str|int:\n",
    "    print(f'My Name is {name} and My Age is {age}')\n",
    "    return name\n",
    "\n",
    "names(\"hijabie\")"
   ]
  },
  {
   "cell_type": "code",
   "execution_count": 13,
   "metadata": {},
   "outputs": [
    {
     "name": "stdout",
     "output_type": "stream",
     "text": [
      "\n",
      "The shirt is a Small size with a message that reads I Love Abbasi.\n",
      "\n",
      "The shirt is a Small size with a message that reads I Love Abbasi.\n",
      "\n",
      "The shirt is a Medium size with a message that reads I Lvoe Python.\n",
      "\n",
      "The shirt is a Large size with a message that reads I Love Hijabie.\n",
      "\n",
      "Karachi is in Pakistan\n",
      "\n",
      "Bombay is in Asian Countries\n",
      "\n",
      "Istanbul is in Turkey\n"
     ]
    }
   ],
   "source": [
    "# Exercise 8.3\n",
    "def make_shirt(size:str ,text:str) -> None:\n",
    "    print(f\"\\nThe shirt is a {size} size with a message that reads {text}.\")\n",
    "\n",
    "make_shirt(\"Small\",\"I Love Abbasi\")\n",
    "make_shirt(text=\"I Love Abbasi\",size=\"Small\")\n",
    "\n",
    "# Exercise 8.4\n",
    "def make_shirts(size:str ,text:str = \"I Lvoe Python\") -> None:\n",
    "    print(f\"\\nThe shirt is a {size} size with a message that reads {text}.\")\n",
    "\n",
    "make_shirts(\"Medium\")\n",
    "make_shirts(\"Large\",\"I Love Hijabie\")\n",
    "\n",
    "# Exercise 8.5\n",
    "def describe_city(city:str,country:str=\"Asian Countries\"):\n",
    "    print(f'\\n{city} is in {country}')\n",
    "\n",
    "describe_city(\"Karachi\",\"Pakistan\")\n",
    "describe_city(\"Bombay\")\n",
    "describe_city(\"Istanbul\",\"Turkey\")"
   ]
  },
  {
   "cell_type": "code",
   "execution_count": 8,
   "metadata": {},
   "outputs": [
    {
     "name": "stdout",
     "output_type": "stream",
     "text": [
      "\n",
      "Karachi is in Pakistan\n",
      "('Karachi', 'Pakistan')\n",
      "\n",
      "Istabul is in Turkey\n",
      "('Istabul', 'Turkey')\n",
      "\n",
      "Madina is in SaudiArabia\n",
      "('Madina', 'SaudiArabia')\n",
      "\n",
      "Write a Detail to create album\n",
      "\n",
      "write 'q' to exit it?\n",
      "\n",
      "{'Artist Name': 'hijabie', 'Album': 'my heart', 'track': 3}\n",
      "\n",
      "Write a Detail to create album\n",
      "\n",
      "write 'q' to exit it?\n"
     ]
    }
   ],
   "source": [
    "# Exercise 8.6\n",
    "def city_country(city:str, country:str):\n",
    "    print(f'\\n{city} is in {country}')\n",
    "    return city,country\n",
    "\n",
    "city1 = city_country(\"Karachi\",\"Pakistan\")\n",
    "print(city1)\n",
    "\n",
    "city1 = city_country(\"Istabul\",\"Turkey\")\n",
    "print(city1)\n",
    "\n",
    "city1 = city_country(\"Madina\",\"SaudiArabia\")\n",
    "print(city1)\n",
    "\n",
    "#Exercise 8.7\n",
    "def make_album(Artist:str, album:str, track:int=0):\n",
    "    if track==0:\n",
    "        make_album = {\"Artist Name\":Artist, \"Album\":album,}\n",
    "    else:\n",
    "        make_album = {\"Artist Name\":Artist, \"Album\":album, \"track\":track}\n",
    "    return make_album\n",
    "\n",
    "artist1 = make_album(\"Atif Aslam\",\"Royee\")\n",
    "print(f'\\n{artist1}')\n",
    "\n",
    "artist1 = make_album(\"Arjit Singh\",\"Heeriye\",5)\n",
    "print(f'\\n{artist1}')\n",
    "\n",
    "artist1 = make_album(\"Asim Azhar\",\"Ghalat Fehmi\")\n",
    "print(f'\\n{artist1}')\n",
    "\n",
    "# Exercise 8.8\n",
    "def make_albums(Artist:str, album:str, track:int=0):\n",
    "    if track==0:\n",
    "        make_album = {\"Artist Name\":Artist, \"Album\":album,}\n",
    "    else:\n",
    "        make_album = {\"Artist Name\":Artist, \"Album\":album, \"track\":track}\n",
    "    return make_album\n",
    "\n",
    "while True:\n",
    "    print(\"\\nWrite a Detail to create album\")\n",
    "    print(\"\\nwrite 'q' to exit it?\")\n",
    "    \n",
    "    artist =  input(\"What's the name of Artist?\")\n",
    "    if artist == 'q':\n",
    "        break\n",
    "    album =  input(\"What's the name of Album?\")\n",
    "    if album == 'q':\n",
    "        break\n",
    "    track =  int(input(\"how many track sing it?\"))\n",
    "    if track == 'q':\n",
    "        break\n",
    "    albums = make_albums(artist,album,track)\n",
    "    print(f\"\\n{albums}\")"
   ]
  },
  {
   "cell_type": "markdown",
   "metadata": {},
   "source": [
    "# List in Functions"
   ]
  },
  {
   "cell_type": "code",
   "execution_count": 12,
   "metadata": {},
   "outputs": [
    {
     "name": "stdout",
     "output_type": "stream",
     "text": [
      "\n",
      "current user: Zyab\n",
      "\n",
      "current user: Muqqadas\n",
      "\n",
      "current user: Hijabie\n",
      "\n",
      "registered: ['Zyab', 'Muqqadas', 'Hijabie']\n",
      "Zyab\n",
      "Muqqadas\n",
      "Hijabie\n"
     ]
    }
   ],
   "source": [
    "def names(unregister:list[str],registered:list[str]):\n",
    "    while unregister:\n",
    "        current = unregister.pop()\n",
    "        print(f\"\\ncurrent user: {current}\")\n",
    "        registered.append(current)\n",
    "    print(f'\\nregistered: {registered}')\n",
    "\n",
    "def registeredname(registereds:list[str]):\n",
    "    for registered in registereds:\n",
    "        print(f\"{registered}\")\n",
    "\n",
    "unregistered: list[str] = [\"Hijabie\",\"Muqqadas\",\"Zyab\"]\n",
    "registered: list[str] = []\n",
    "\n",
    "names(unregistered,registered)\n",
    "registeredname(registered)"
   ]
  },
  {
   "cell_type": "code",
   "execution_count": 17,
   "metadata": {},
   "outputs": [
    {
     "name": "stdout",
     "output_type": "stream",
     "text": [
      "The great Hijabie\n",
      "The great Muqqadas\n",
      "The great Zyab\n"
     ]
    }
   ],
   "source": [
    "# Exercise 8.9\n",
    "def show_magician(magicians:list[str])->None:\n",
    "    for magician in magicians:\n",
    "        print(magician)\n",
    "\n",
    "magicians: list[str] = [\"Hijabie\",\"Muqqadas\",\"Zyab\"]\n",
    "\n",
    "show_magician(magicians)\n",
    "\n",
    "# Exercise 8.10\n",
    "def show_magicians(magicians:list[str]):\n",
    "    for magician in magicians:\n",
    "        print(magician)\n",
    "\n",
    "def great_magicians(magicians:list[str]):\n",
    "    great: list[str] = []\n",
    "    for magician in magicians:\n",
    "        great.append(f'The great {magician}')\n",
    "    return great\n",
    "\n",
    "magicians = [\"Hijabie\",\"Muqqadas\",\"Zyab\"]\n",
    "modified = great_magicians(magicians)\n",
    "# print(magicians)\n",
    "show_magicians(modified)"
   ]
  },
  {
   "cell_type": "code",
   "execution_count": 64,
   "metadata": {},
   "outputs": [
    {
     "name": "stdout",
     "output_type": "stream",
     "text": [
      "The Great: Hijabie\n",
      "The Great: Muqqadas\n",
      "The Great: Zyab\n",
      "\n",
      "\n",
      "Hijabie\n",
      "Muqqadas\n",
      "Zyab\n"
     ]
    }
   ],
   "source": [
    "# Exercise 8.11\n",
    "def show_magician(magicians:list[str]):\n",
    "    for great in magicians:\n",
    "        print(great)\n",
    "\n",
    "def great_magician(magicians:list[str],):\n",
    "    great_magicians: list[str] = []\n",
    "    for magician in magicians:\n",
    "        great_magicians.append(f'The Great: {magician}')\n",
    "    \n",
    "    return great_magicians\n",
    "\n",
    "\n",
    "magicians: list[str] = [\"Hijabie\",\"Muqqadas\",\"Zyab\"]\n",
    "# great:list[str] = []\n",
    "\n",
    "# show_magician(magicians)\n",
    "modifiedlist = great_magician(magicians)\n",
    "#original list\n",
    "\n",
    "show_magician(modifiedlist)\n",
    "print(f'\\n')\n",
    "show_magician(magicians)"
   ]
  },
  {
   "cell_type": "markdown",
   "metadata": {},
   "source": [
    "# Tuple and Dictonary in Function"
   ]
  },
  {
   "cell_type": "code",
   "execution_count": 25,
   "metadata": {},
   "outputs": [
    {
     "name": "stdout",
     "output_type": "stream",
     "text": [
      "a 5\n",
      "b 5\n",
      "c Hijabie\n",
      "d Abbasi\n",
      "Phyics\n",
      "Hijabie\n"
     ]
    }
   ],
   "source": [
    "# Tuple \n",
    "def abc(*nums):\n",
    "    # print(nums,type(nums))\n",
    "    total=0\n",
    "    for n in nums:\n",
    "        total += n\n",
    "    return total\n",
    "\n",
    "abc(1,2,3,4,5,6,7)\n",
    "\n",
    "# Dictionary\n",
    "def xyz(**values):\n",
    "    for key,value in values.items():\n",
    "        print(key,value)\n",
    "\n",
    "xyz(a = 5, b = 5 , c  = \"Hijabie\", d = \"Abbasi\")\n",
    "\n",
    "def profiles(first,last,**info):\n",
    "    profile = {}\n",
    "    profile[\"first_name\"] = first\n",
    "    profile[\"last_name\"] = last\n",
    "    for key,value in info.items():\n",
    "        profile[key] = value\n",
    "    return profile\n",
    "\n",
    "user = profiles(\"Hijabie\",\"Rabail\",Location = \"Hyderabad\", Subject = \"Phyics\")\n",
    "print(user['Subject'])\n",
    "print(user['first_name'])"
   ]
  },
  {
   "cell_type": "code",
   "execution_count": 30,
   "metadata": {},
   "outputs": [
    {
     "name": "stdout",
     "output_type": "stream",
     "text": [
      "\n",
      "Making a Sandwich with following items:\n",
      "- Egg\n",
      "- Cheeze\n",
      "\n",
      "Making a Sandwich with following items:\n",
      "- Egg\n",
      "- Extra Cheeze\n",
      "- Chicken\n",
      "- Garlic Mayo\n",
      "\n",
      "Making a Sandwich with following items:\n",
      "- Egg\n",
      "- Chicken\n",
      "\n",
      "{'first_name': 'Hijabie', 'last_name': 'Chuzzi', 'Location': 'Hyderabad', 'Subject': 'Physics'}\n",
      "\n",
      "{'Manufacturer': 'Hyundayi', 'Model': 'Civic', 'color': 'blue', 'remote_starter': True}\n"
     ]
    }
   ],
   "source": [
    "# Exercise 8.12\n",
    "def order_sandwich(*items):\n",
    "    print('\\nMaking a Sandwich with following items:')\n",
    "    for item in items:\n",
    "        print(f\"- {item}\")\n",
    "\n",
    "order_sandwich(\"Egg\",\"Cheeze\")\n",
    "order_sandwich(\"Egg\",\"Extra Cheeze\",\"Chicken\",\"Garlic Mayo\")\n",
    "order_sandwich(\"Egg\",\"Chicken\")\n",
    "\n",
    "# Exercise 8.13\n",
    "def user_profile(first,last,**info):\n",
    "    profile = {}\n",
    "    profile[\"first_name\"] = first\n",
    "    profile['last_name'] = last\n",
    "    for key , value in info.items():\n",
    "        profile[key] = value\n",
    "    return profile\n",
    "\n",
    "user = user_profile(\"Hijabie\",\"Chuzzi\",Location = \"Hyderabad\", Subject = \"Physics\")\n",
    "print(f'\\n{user}')\n",
    "\n",
    "# Exercise 8.14\n",
    "def order_car(manufactuer,model,**other_features):\n",
    "    information = {}\n",
    "    information['Manufacturer'] = manufactuer\n",
    "    information['Model'] = model\n",
    "    for key , values in other_features.items():\n",
    "        information[key] = values\n",
    "    return information\n",
    "\n",
    "car = order_car(\"Hyundayi\",\"Civic\", color = \"blue\", remote_starter=True)\n",
    "print(f'\\n{car}')"
   ]
  },
  {
   "cell_type": "code",
   "execution_count": 1,
   "metadata": {},
   "outputs": [
    {
     "name": "stdout",
     "output_type": "stream",
     "text": [
      "{'Name': 'Hijabie', 'last': 'khan', 'age': '10'}\n"
     ]
    }
   ],
   "source": [
    "# Assignment\n",
    "def user_profiles(first,last,**info):\n",
    "    profile = {}\n",
    "    profile['Name'] = first\n",
    "    profile['last'] = last\n",
    "    for key , values in info.items():\n",
    "        profile[key] = values\n",
    "    return profile\n",
    "\n",
    "while True:\n",
    "    user_fName: str = input(\"Enter your  First Name?\")\n",
    "    if user_fName in ['exit','quit','stop']:\n",
    "        break\n",
    "    user_lName: str = input(\"Enter your Last Name?\")\n",
    "    additional_info = {}\n",
    "    while True:\n",
    "        another_info: str = input(\"Do you want to add more info so What you want to add,Type Here\\\n",
    "        Or Type Quit to exit the program!\")\n",
    "        if another_info in ['exit','quit','stop']:\n",
    "            break\n",
    "        user_info:str = input(f'Enter Your {another_info}')\n",
    "        additional_info[another_info] = user_info\n",
    "\n",
    "    user = user_profiles(user_fName,user_lName, **additional_info)\n",
    "    print(user)"
   ]
  }
 ],
 "metadata": {
  "kernelspec": {
   "display_name": "python12",
   "language": "python",
   "name": "python3"
  },
  "language_info": {
   "codemirror_mode": {
    "name": "ipython",
    "version": 3
   },
   "file_extension": ".py",
   "mimetype": "text/x-python",
   "name": "python",
   "nbconvert_exporter": "python",
   "pygments_lexer": "ipython3",
   "version": "3.12.0"
  }
 },
 "nbformat": 4,
 "nbformat_minor": 2
}
