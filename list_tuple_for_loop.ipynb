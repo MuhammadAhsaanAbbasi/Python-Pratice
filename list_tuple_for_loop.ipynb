{
 "cells": [
  {
   "cell_type": "markdown",
   "metadata": {},
   "source": [
    "# List_tuple_for_loop"
   ]
  },
  {
   "cell_type": "code",
   "execution_count": 1,
   "metadata": {},
   "outputs": [
    {
     "name": "stdout",
     "output_type": "stream",
     "text": [
      "Hijaie\n",
      "Abbasi\n",
      "['Fajar', 'Rawa', 'Arbaz', 'Aryan']\n"
     ]
    }
   ],
   "source": [
    "names:list[str]=[\"Hijaie\",\"Abbasi\"]\n",
    "\n",
    "for name in names:\n",
    "    print(name)\n",
    "\n",
    "hijabfamily : list[str] = [\"Fajar\",\"Rawa\",\"Arbaz\",\"Aryan\"]\n",
    "print(hijabfamily)\n",
    "\n"
   ]
  }
 ],
 "metadata": {
  "kernelspec": {
   "display_name": "python12",
   "language": "python",
   "name": "python3"
  },
  "language_info": {
   "codemirror_mode": {
    "name": "ipython",
    "version": 3
   },
   "file_extension": ".py",
   "mimetype": "text/x-python",
   "name": "python",
   "nbconvert_exporter": "python",
   "pygments_lexer": "ipython3",
   "version": "3.12.0"
  }
 },
 "nbformat": 4,
 "nbformat_minor": 2
}
