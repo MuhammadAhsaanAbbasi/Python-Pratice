{
 "cells": [
  {
   "cell_type": "markdown",
   "metadata": {},
   "source": [
    "# List_tuple_for_loop"
   ]
  },
  {
   "cell_type": "code",
   "execution_count": 19,
   "metadata": {},
   "outputs": [
    {
     "name": "stdout",
     "output_type": "stream",
     "text": [
      "Hijaie\n",
      "Hijaie love with Abbasi\n",
      "Abbasi\n",
      "Abbasi love with Hijaie\n",
      "I like you Hijabie\n",
      "['Fajar', 'Rawa', 'Arbaz', 'Aryan']\n"
     ]
    }
   ],
   "source": [
    "names:list[str]=[\"Hijaie\",\"Abbasi\"]\n",
    "\n",
    "for name in names:\n",
    "    print(name)\n",
    "    if names[0]==name :\n",
    "        print(f'{names[0]} love with {names[1]}')\n",
    "    if names[1]==name :\n",
    "        print(f'{names[1]} love with {names[0]}')\n",
    "\n",
    "print(\"I like you Hijabie\")\n",
    "\n",
    "hijabfamily : list[str] = [\"Fajar\",\"Rawa\",\"Arbaz\",\"Aryan\"]\n",
    "print(hijabfamily)\n",
    "\n"
   ]
  },
  {
   "cell_type": "markdown",
   "metadata": {},
   "source": [
    "# DataBase System"
   ]
  },
  {
   "cell_type": "code",
   "execution_count": 26,
   "metadata": {},
   "outputs": [
    {
     "name": "stdout",
     "output_type": "stream",
     "text": [
      "Invalid User or Password!\n"
     ]
    }
   ],
   "source": [
    "data_base : list[tuple[str,str]] = [(\"hijabie\",\"123\"),\n",
    "                                    (\"abbasi\",\"245\"),\n",
    "                                    (\"rivkhan\",\"786\")\n",
    "                                    ]\n",
    "\n",
    "input_user: str = input(\"Enter Your UserName\")\n",
    "input_password: str = input(\"Enter Your Password\")\n",
    "\n",
    "for row in data_base:\n",
    "    user,password=row\n",
    "    if input_user == user and input_password==password :\n",
    "        print(\"Valid User\")\n",
    "        break\n",
    "else:\n",
    "    print(\"Invalid User or Password!\")"
   ]
  },
  {
   "cell_type": "markdown",
   "metadata": {},
   "source": [
    "# use of else in different functions"
   ]
  },
  {
   "cell_type": "code",
   "execution_count": 35,
   "metadata": {},
   "outputs": [
    {
     "name": "stdout",
     "output_type": "stream",
     "text": [
      "Hijaie\n",
      "Hijaie\n",
      "Abbasi\n",
      "Hello world Abbasi\n"
     ]
    }
   ],
   "source": [
    "for name in names:\n",
    "    print(name)\n",
    "    break\n",
    "else:\n",
    "    print(\"Hello world\")\n",
    "\n",
    "for name in names:\n",
    "    print(name)\n",
    "print(f\"Hello world {name}\")"
   ]
  },
  {
   "cell_type": "markdown",
   "metadata": {},
   "source": [
    "# Number with loop "
   ]
  },
  {
   "cell_type": "code",
   "execution_count": 8,
   "metadata": {},
   "outputs": [
    {
     "name": "stdout",
     "output_type": "stream",
     "text": [
      "0 Hijab\n",
      "1 Hijabie\n",
      "2 Hijabrk\n",
      "2 X 1 = 2\n",
      "2 X 2 = 4\n",
      "2 X 3 = 6\n",
      "2 X 4 = 8\n",
      "2 X 5 = 10\n",
      "2 X 6 = 12\n",
      "2 X 7 = 14\n",
      "2 X 8 = 16\n",
      "2 X 9 = 18\n",
      "2 X 10 = 20\n"
     ]
    }
   ],
   "source": [
    "list\n",
    "(range(0,6))\n",
    "list(range(2,21,2))\n",
    "\n",
    "magicians : list[str] = [\"Hijab\",\"Hijabie\",\"Hijabrk\"]\n",
    "list(enumerate(magicians))\n",
    "for index, name in enumerate(magicians):\n",
    "    print(index,name)\n",
    "    \n",
    "for n in range(1,11):\n",
    "    print(f'{2} X {n} = {n*2}')"
   ]
  },
  {
   "cell_type": "code",
   "execution_count": 5,
   "metadata": {},
   "outputs": [
    {
     "name": "stdout",
     "output_type": "stream",
     "text": [
      "[1, 4, 9, 16, 25, 36, 49, 64, 81, 100]\n"
     ]
    }
   ],
   "source": [
    "#InComprehensive List\n",
    "squares : list[int] = []\n",
    "for value in range(1,11):\n",
    "    square=value**2\n",
    "    squares.append(square)\n",
    "print(squares)\n"
   ]
  },
  {
   "cell_type": "markdown",
   "metadata": {},
   "source": [
    "# List Comprehensive\n",
    "'''\n",
    "   for item in items_list:\n",
    "                        \n",
    "      loop_body\n",
    "'''\n",
    "# Comprehensive Style\n",
    "\n",
    "* [loop_body for item in items_list]"
   ]
  },
  {
   "cell_type": "code",
   "execution_count": 11,
   "metadata": {},
   "outputs": [
    {
     "name": "stdout",
     "output_type": "stream",
     "text": [
      "9\n",
      "0\n",
      "45\n"
     ]
    }
   ],
   "source": [
    "[i**2 for i in range(1,11)]\n",
    "print(max(range(0,10)))\n",
    "print(min(range(0,10)))\n",
    "print(sum(range(0,10)))"
   ]
  },
  {
   "cell_type": "code",
   "execution_count": 12,
   "metadata": {},
   "outputs": [
    {
     "name": "stdout",
     "output_type": "stream",
     "text": [
      "['pizza', 'biryani', 'tikka']\n",
      "['pizza', 'biryani', 'tikka', 'rabri']\n"
     ]
    }
   ],
   "source": [
    "mychoice : list[str] = [\"pizza\",\"biryani\",\"tikka\"]\n",
    "hijabie_choice=mychoice[:]\n",
    "hijabie_choice.append(\"rabri\")\n",
    "print(mychoice)\n",
    "print(hijabie_choice)"
   ]
  },
  {
   "cell_type": "markdown",
   "metadata": {},
   "source": [
    "# Tuples"
   ]
  },
  {
   "cell_type": "code",
   "execution_count": 18,
   "metadata": {},
   "outputs": [
    {
     "name": "stdout",
     "output_type": "stream",
     "text": [
      "[5, 7, 8]\n",
      "('Hijabie', 'Abbasi', [5, 7, 8, 'Humna'], True)\n"
     ]
    }
   ],
   "source": [
    "from typing import Any\n",
    "names: tuple[Any] = (\"Hijabie\",\"Abbasi\",[5,7,8],True)\n",
    "print(names[2])\n",
    "names[2].append(\"Humna\")\n",
    "print(names)"
   ]
  },
  {
   "cell_type": "code",
   "execution_count": 33,
   "metadata": {},
   "outputs": [
    {
     "name": "stdout",
     "output_type": "stream",
     "text": [
      "Afghani\n",
      "I Like Afghani Pizza\n",
      "Peporani\n",
      "I Like Peporani Pizza\n",
      "Fajita\n",
      "I Like Fajita Pizza\n",
      "I really love pizza!\n",
      "\n",
      "Dog\n",
      "\n",
      "A Dog would make a great pet\n",
      "\n",
      "Cat\n",
      "\n",
      "A Cat would make a wonderful family\n",
      "\n",
      "Rabbit\n",
      "\n",
      "A Rabbit would make a cute pet\n",
      "\n",
      "\n",
      "what these animals have in common:\n",
      "\n",
      "Any of these animals would make a great pet!\n"
     ]
    }
   ],
   "source": [
    "#Exercise 4.1\n",
    "pizzas: list[str] = [\"Afghani\",\"Peporani\", \"Fajita\"]\n",
    "for pizza in pizzas:\n",
    "    print(pizza)\n",
    "    print(f'I Like {pizza} Pizza')\n",
    "    \n",
    "print(\"I really love pizza!\\n\")\n",
    "\n",
    "#Exercise 4.2\n",
    "pets: list[str] = [\"Dog\",\"Cat\",\"Rabbit\"]\n",
    "for pet in pets:\n",
    "    print(pet)\n",
    "    if(pets[0]==pet):\n",
    "        print(f'\\nA {pet} would make a great pet\\n')\n",
    "    if(pets[1]==pet):\n",
    "        print(f'\\nA {pet} would make a wonderful family\\n')\n",
    "    if(pets[2]==pet):\n",
    "        print(f'\\nA {pet} would make a cute pet\\n')\n",
    "print(f'what these animals have in common:')\n",
    "print(f'\\nAny of these animals would make a great pet!')"
   ]
  },
  {
   "cell_type": "code",
   "execution_count": 14,
   "metadata": {},
   "outputs": [
    {
     "name": "stdout",
     "output_type": "stream",
     "text": [
      "999\n",
      "1\n",
      "499500\n",
      "3 X 1 = 3\n",
      "3 X 2 = 6\n",
      "3 X 3 = 9\n",
      "3 X 4 = 12\n",
      "3 X 5 = 15\n",
      "3 X 6 = 18\n",
      "3 X 7 = 21\n",
      "3 X 8 = 24\n",
      "3 X 9 = 27\n",
      "3 X 10 = 30\n",
      "[1, 3, 5, 7, 9, 11, 13, 15, 17, 19]\n",
      "[1, 8, 27, 64, 125, 216, 343, 512, 729, 1000]\n"
     ]
    },
    {
     "data": {
      "text/plain": [
       "[1, 8, 27, 64, 125, 216, 343, 512, 729, 1000]"
      ]
     },
     "execution_count": 14,
     "metadata": {},
     "output_type": "execute_result"
    }
   ],
   "source": [
    "# for i in range(1,100000000):\n",
    "#     print(i)\n",
    "\n",
    "#Exercise 4.5\n",
    "i= range(1,1000)\n",
    "print(max(i))\n",
    "print(min(i))\n",
    "\n",
    "print(sum(i))\n",
    "\n",
    "#Exersice 4.7\n",
    "for i in range(1,11):\n",
    "    print(f'{3} X {i} = {i*3}')\n",
    "\n",
    "#Exersice 4.6\n",
    "i=list(range(1,20,2))\n",
    "print(i)\n",
    "\n",
    "#Exersice 4.8\n",
    "cubes: list[int] = []\n",
    "for val in range(1,11):\n",
    "    cube=val**3\n",
    "    cubes.append(cube)\n",
    "print(cubes)\n",
    "\n",
    "#Exersice 4.9\n",
    "[val**3 for val in range(1,11)]"
   ]
  },
  {
   "cell_type": "code",
   "execution_count": 24,
   "metadata": {},
   "outputs": [
    {
     "name": "stdout",
     "output_type": "stream",
     "text": [
      "Sammer is My School or College Friend\n",
      "Ammad is My School or College Friend\n",
      "Hasnain is My School or College Friend\n",
      "Asad is My PIAIC Friends\n",
      "Rao is My PIAIC Friends\n",
      "Okasha is My PIAIC Friends\n",
      "Zyab is My Best Friend\n",
      "Hijabie is My Best Friend\n",
      "Muqqadas is My Best Friend\n",
      "My Friend pizza are: Afghani\n",
      "My Friend pizza are: Peporani\n",
      "My Friend pizza are: Fajita\n",
      "My Friend pizza are: Tikka\n",
      "My pizza are: Afghani\n",
      "My pizza are: Peporani\n",
      "My pizza are: Fajita\n",
      "My pizza are: Malai Tikka\n"
     ]
    }
   ],
   "source": [
    "#Exersice 4.10\n",
    "friends: list[str] = [\"Sammer\",\"Ammad\",\"Hasnain\",\"Asad\",\"Rao\",\"Okasha\",\"Zyab\",\"Hijabie\",\"Muqqadas\"]\n",
    "for friend in friends[0:3]:\n",
    "    print(f'{friend} is My School or College Friend')\n",
    "for friend in friends[3:6]:\n",
    "    print(f'{friend} is My PIAIC Friends')\n",
    "for friend in friends[6:9]:\n",
    "    print(f'{friend} is My Best Friend')\n",
    "\n",
    "#Exersice 4.11\n",
    "mypizza: list[str] = [\"Afghani\",\"Peporani\", \"Fajita\"]\n",
    "firend_Pizza=mypizza[:]\n",
    "mypizza.append(\"Malai Tikka\")\n",
    "firend_Pizza.append(\"Tikka\")\n",
    "for pizza in firend_Pizza:\n",
    "    print(f'My Friend pizza are: {pizza}')\n",
    "for pizza in mypizza:\n",
    "    print(f'My pizza are: {pizza}')"
   ]
  },
  {
   "cell_type": "code",
   "execution_count": 36,
   "metadata": {},
   "outputs": [
    {
     "name": "stdout",
     "output_type": "stream",
     "text": [
      "Menu: Afghani Tikka\n",
      "Menu: Shawarma\n",
      "Menu: Biryani\n",
      "Menu: Burger\n",
      "Menu: Pasta\n",
      "Menu: Afghani Tikka\n",
      "Menu: Shawarma\n",
      "Menu: Biryani\n",
      "Menu: Burger\n",
      "Menu: Pasta\n",
      "Menu: Chicken karhai\n"
     ]
    }
   ],
   "source": [
    "recipes: tuple[str] = (\"Afghani Tikka\",\"Shawarma\", \"Biryani\",\"Burger\",\"Pasta\")\n",
    "for menu in recipes:\n",
    "    print(\"Menu:\",menu)\n",
    "\n",
    "# recipes.append('Chicken Karhai')\n",
    "# for menu in recipes:\n",
    "#     print(\"Menu:\",menu)\n",
    "\n",
    "recipes: tuple[str] = (\"Afghani Tikka\",\"Shawarma\", \"Biryani\",\"Burger\",\"Pasta\",\"Chicken karhai\")\n",
    "for menu in recipes:\n",
    "    print(\"Menu:\",menu)"
   ]
  }
 ],
 "metadata": {
  "kernelspec": {
   "display_name": "python12",
   "language": "python",
   "name": "python3"
  },
  "language_info": {
   "codemirror_mode": {
    "name": "ipython",
    "version": 3
   },
   "file_extension": ".py",
   "mimetype": "text/x-python",
   "name": "python",
   "nbconvert_exporter": "python",
   "pygments_lexer": "ipython3",
   "version": "3.12.0"
  }
 },
 "nbformat": 4,
 "nbformat_minor": 2
}
