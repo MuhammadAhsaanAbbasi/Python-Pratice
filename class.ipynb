{
 "cells": [
  {
   "cell_type": "markdown",
   "metadata": {},
   "source": [
    "# This is a MarkDown of interpretier"
   ]
  },
  {
   "cell_type": "code",
   "execution_count": 3,
   "metadata": {},
   "outputs": [
    {
     "name": "stdout",
     "output_type": "stream",
     "text": [
      "Hello world\n",
      "Hello world\n",
      "Hello world\n",
      "Hello world\n"
     ]
    }
   ],
   "source": [
    "print(\"Hello world\")\n",
    "print(\"Hello world\")\n",
    "print(\"Hello world\")\n",
    "print(\"Hello world\")"
   ]
  },
  {
   "cell_type": "code",
   "execution_count": 2,
   "metadata": {},
   "outputs": [
    {
     "name": "stdout",
     "output_type": "stream",
     "text": [
      "Hello world\n",
      "Hello world\n",
      "hijabie\n",
      "<class 'str'>\n",
      "2128486667328\n",
      "['capitalize', 'casefold', 'center', 'count', 'encode', 'endswith', 'expandtabs', 'find', 'format', 'index', 'isalnum', 'isalpha', 'isascii', 'isdecimal', 'isdigit', 'isidentifier', 'islower', 'isnumeric', 'isprintable', 'isspace', 'istitle', 'isupper', 'join', 'ljust', 'lower', 'lstrip', 'maketrans', 'partition', 'removeprefix', 'removesuffix', 'replace', 'rfind', 'rindex', 'rjust', 'rpartition', 'rsplit', 'rstrip', 'split', 'splitlines', 'startswith', 'strip', 'swapcase', 'title', 'translate', 'upper', 'zfill']\n"
     ]
    }
   ],
   "source": [
    "print(\"Hello world\")\n",
    "print(\"Hello world\")\n",
    "name:str=\"hijabie\"\n",
    "print(name)\n",
    "print(type(name))\n",
    "print(id(name))\n",
    "print([i for i in dir(name)if \"_\" not in i])"
   ]
  },
  {
   "cell_type": "markdown",
   "metadata": {},
   "source": [
    "#Strings and f-Strings"
   ]
  },
  {
   "cell_type": "code",
   "execution_count": 2,
   "metadata": {},
   "outputs": [
    {
     "name": "stdout",
     "output_type": "stream",
     "text": [
      "PIAIC Student Card\n",
      "Muhammad Ahsaan Abbasi\n",
      "Age: 20\n",
      "Education:Intermediate\n"
     ]
    }
   ],
   "source": [
    "name:str=\"Muhammad Ahsaan Abbasi\"\n",
    "fname:str='Muhammad Israr'\n",
    "age:int=20\n",
    "education:str='Intermediate'\n",
    "\n",
    "card:str=\"PIAIC Student Card\\n\" +name \\\n",
    "        + \"\\nAge: \" +  \\\n",
    "            str(age) + '\\n' \\\n",
    "                \"Education:\" + education\n",
    "                \n",
    "print(card)"
   ]
  },
  {
   "cell_type": "code",
   "execution_count": 5,
   "metadata": {},
   "outputs": [
    {
     "name": "stdout",
     "output_type": "stream",
     "text": [
      "\n",
      "PIAIC Student Card\n",
      "Student Name:  Muhammad Ahsaan Abbasi\n",
      "Father  Name:  Muhammad Israr\n",
      "Age: 20\n",
      "Education: Intermediate\n",
      "\n"
     ]
    }
   ],
   "source": [
    "name:str=\"Muhammad Ahsaan Abbasi\"\n",
    "fname:str='Muhammad Israr'\n",
    "age:int=20\n",
    "education:str='Intermediate'\n",
    "\n",
    "card:str=f\"\"\"\n",
    "PIAIC Student Card\n",
    "Student Name:  {name}\n",
    "Father  Name:  {fname}\n",
    "Age: {age}\n",
    "Education: {education}\n",
    "\"\"\"\n",
    "\n",
    "print(card)"
   ]
  },
  {
   "cell_type": "markdown",
   "metadata": {},
   "source": [
    "#Using Old Method to get variables in multiline"
   ]
  },
  {
   "cell_type": "code",
   "execution_count": 7,
   "metadata": {},
   "outputs": [
    {
     "name": "stdout",
     "output_type": "stream",
     "text": [
      "\n",
      "PIAIC Student Card\n",
      "Student Name:  Muhammad Ahsaan Abbasi\n",
      "Father  Name:  Muhammad Israr\n",
      "Age: 20\n",
      "Education: Intermediate\n",
      "\n"
     ]
    }
   ],
   "source": [
    "name:str=\"Muhammad Ahsaan Abbasi\"\n",
    "fname:str='Muhammad Israr'\n",
    "age:int=20\n",
    "education:str='Intermediate'\n",
    "\n",
    "card:str=f\"\"\"\n",
    "PIAIC Student Card\n",
    "Student Name:  %s\n",
    "Father  Name:  %s\n",
    "Age: %d\n",
    "Education: %s\n",
    "\"\"\"%(name,fname,age,education)\n",
    "\n",
    "print(card)"
   ]
  },
  {
   "cell_type": "markdown",
   "metadata": {},
   "source": [
    "#using format method"
   ]
  },
  {
   "cell_type": "code",
   "execution_count": 15,
   "metadata": {},
   "outputs": [
    {
     "data": {
      "text/plain": [
       "'pakistan value a=7 and value b=8'"
      ]
     },
     "execution_count": 15,
     "metadata": {},
     "output_type": "execute_result"
    }
   ],
   "source": [
    "a=7\n",
    "b=8\n",
    "\"pakistan value a={} and value b={}\".format(a,b)\n",
    "# print(value)"
   ]
  },
  {
   "cell_type": "markdown",
   "metadata": {},
   "source": [
    "#Methods Of Strings\n",
    "#Print \n",
    "#id\n",
    "#type\n"
   ]
  },
  {
   "cell_type": "code",
   "execution_count": 17,
   "metadata": {},
   "outputs": [
    {
     "name": "stdout",
     "output_type": "stream",
     "text": [
      "6\n"
     ]
    }
   ],
   "source": [
    "a:str=\"Abbasi\"\n",
    "lenth=len(a)\n",
    "print(lenth)"
   ]
  }
 ],
 "metadata": {
  "kernelspec": {
   "display_name": "base",
   "language": "python",
   "name": "python3"
  },
  "language_info": {
   "codemirror_mode": {
    "name": "ipython",
    "version": 3
   },
   "file_extension": ".py",
   "mimetype": "text/x-python",
   "name": "python",
   "nbconvert_exporter": "python",
   "pygments_lexer": "ipython3",
   "version": "3.12.0"
  }
 },
 "nbformat": 4,
 "nbformat_minor": 2
}
