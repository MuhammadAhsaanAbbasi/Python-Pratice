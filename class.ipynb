{
 "cells": [
  {
   "cell_type": "markdown",
   "metadata": {},
   "source": [
    "# This is a MarkDown of interpretier"
   ]
  },
  {
   "cell_type": "code",
   "execution_count": 3,
   "metadata": {},
   "outputs": [
    {
     "name": "stdout",
     "output_type": "stream",
     "text": [
      "Hello world\n",
      "Hello world\n",
      "Hello world\n",
      "Hello world\n"
     ]
    }
   ],
   "source": [
    "print(\"Hello world\")\n",
    "print(\"Hello world\")\n",
    "print(\"Hello world\")\n",
    "print(\"Hello world\")"
   ]
  },
  {
   "cell_type": "code",
   "execution_count": 2,
   "metadata": {},
   "outputs": [
    {
     "name": "stdout",
     "output_type": "stream",
     "text": [
      "Hello world\n",
      "Hello world\n",
      "hijabie\n",
      "<class 'str'>\n",
      "2128486667328\n",
      "['capitalize', 'casefold', 'center', 'count', 'encode', 'endswith', 'expandtabs', 'find', 'format', 'index', 'isalnum', 'isalpha', 'isascii', 'isdecimal', 'isdigit', 'isidentifier', 'islower', 'isnumeric', 'isprintable', 'isspace', 'istitle', 'isupper', 'join', 'ljust', 'lower', 'lstrip', 'maketrans', 'partition', 'removeprefix', 'removesuffix', 'replace', 'rfind', 'rindex', 'rjust', 'rpartition', 'rsplit', 'rstrip', 'split', 'splitlines', 'startswith', 'strip', 'swapcase', 'title', 'translate', 'upper', 'zfill']\n"
     ]
    }
   ],
   "source": [
    "print(\"Hello world\")\n",
    "print(\"Hello world\")\n",
    "name:str=\"hijabie\"\n",
    "print(name)\n",
    "print(type(name))\n",
    "print(id(name))\n",
    "print([i for i in dir(name)if \"_\" not in i])"
   ]
  },
  {
   "cell_type": "markdown",
   "metadata": {},
   "source": [
    "#Strings and f-Strings"
   ]
  },
  {
   "cell_type": "code",
   "execution_count": 2,
   "metadata": {},
   "outputs": [
    {
     "name": "stdout",
     "output_type": "stream",
     "text": [
      "PIAIC Student Card\n",
      "Muhammad Ahsaan Abbasi\n",
      "Age: 20\n",
      "Education:Intermediate\n"
     ]
    }
   ],
   "source": [
    "name:str=\"Muhammad Ahsaan Abbasi\"\n",
    "fname:str='Muhammad Israr'\n",
    "age:int=20\n",
    "education:str='Intermediate'\n",
    "\n",
    "card:str=\"PIAIC Student Card\\n\" +name \\\n",
    "        + \"\\nAge: \" +  \\\n",
    "            str(age) + '\\n' \\\n",
    "                \"Education:\" + education\n",
    "                \n",
    "print(card)"
   ]
  },
  {
   "cell_type": "code",
   "execution_count": 5,
   "metadata": {},
   "outputs": [
    {
     "name": "stdout",
     "output_type": "stream",
     "text": [
      "\n",
      "PIAIC Student Card\n",
      "Student Name:  Muhammad Ahsaan Abbasi\n",
      "Father  Name:  Muhammad Israr\n",
      "Age: 20\n",
      "Education: Intermediate\n",
      "\n"
     ]
    }
   ],
   "source": [
    "name:str=\"Muhammad Ahsaan Abbasi\"\n",
    "fname:str='Muhammad Israr'\n",
    "age:int=20\n",
    "education:str='Intermediate'\n",
    "\n",
    "card:str=f\"\"\"\n",
    "PIAIC Student Card\n",
    "Student Name:  {name}\n",
    "Father  Name:  {fname}\n",
    "Age: {age}\n",
    "Education: {education}\n",
    "\"\"\"\n",
    "\n",
    "print(card)"
   ]
  },
  {
   "cell_type": "markdown",
   "metadata": {},
   "source": [
    "#Using Old Method to get variables in multiline"
   ]
  },
  {
   "cell_type": "code",
   "execution_count": 7,
   "metadata": {},
   "outputs": [
    {
     "name": "stdout",
     "output_type": "stream",
     "text": [
      "\n",
      "PIAIC Student Card\n",
      "Student Name:  Muhammad Ahsaan Abbasi\n",
      "Father  Name:  Muhammad Israr\n",
      "Age: 20\n",
      "Education: Intermediate\n",
      "\n"
     ]
    }
   ],
   "source": [
    "name:str=\"Muhammad Ahsaan Abbasi\"\n",
    "fname:str='Muhammad Israr'\n",
    "age:int=20\n",
    "education:str='Intermediate'\n",
    "\n",
    "card:str=f\"\"\"\n",
    "PIAIC Student Card\n",
    "Student Name:  %s\n",
    "Father  Name:  %s\n",
    "Age: %d\n",
    "Education: %s\n",
    "\"\"\"%(name,fname,age,education)\n",
    "\n",
    "print(card)"
   ]
  },
  {
   "cell_type": "markdown",
   "metadata": {},
   "source": [
    "#using format method"
   ]
  },
  {
   "cell_type": "code",
   "execution_count": 15,
   "metadata": {},
   "outputs": [
    {
     "data": {
      "text/plain": [
       "'pakistan value a=7 and value b=8'"
      ]
     },
     "execution_count": 15,
     "metadata": {},
     "output_type": "execute_result"
    }
   ],
   "source": [
    "a=7\n",
    "b=8\n",
    "\"pakistan value a={} and value b={}\".format(a,b)\n",
    "# print(value)"
   ]
  },
  {
   "cell_type": "markdown",
   "metadata": {},
   "source": [
    "#Methods Of Strings\n",
    "#Print \n",
    "#id\n",
    "#type\n"
   ]
  },
  {
   "cell_type": "code",
   "execution_count": 17,
   "metadata": {},
   "outputs": [
    {
     "name": "stdout",
     "output_type": "stream",
     "text": [
      "6\n"
     ]
    }
   ],
   "source": [
    "a:str=\"Abbasi\"\n",
    "lenth=len(a)\n",
    "print(lenth)"
   ]
  },
  {
   "cell_type": "markdown",
   "metadata": {},
   "source": [
    "#capitalize\n",
    "#Casfold, lower"
   ]
  },
  {
   "cell_type": "code",
   "execution_count": 3,
   "metadata": {},
   "outputs": [
    {
     "name": "stdout",
     "output_type": "stream",
     "text": [
      "Abbasi\n",
      "abbasi\n",
      "abbasi\n"
     ]
    }
   ],
   "source": [
    "a:str=\"Abbasi\"\n",
    "print(a.capitalize())\n",
    "print(a.casefold())\n",
    "print(a.lower())"
   ]
  },
  {
   "cell_type": "markdown",
   "metadata": {},
   "source": [
    "#Strip #lstrip #rstrip"
   ]
  },
  {
   "cell_type": "code",
   "execution_count": 4,
   "metadata": {},
   "outputs": [
    {
     "data": {
      "text/plain": [
       "'Muhammad   Qasim          '"
      ]
     },
     "metadata": {},
     "output_type": "display_data"
    },
    {
     "data": {
      "text/plain": [
       "'                Muhammad   Qasim'"
      ]
     },
     "metadata": {},
     "output_type": "display_data"
    },
    {
     "data": {
      "text/plain": [
       "'Muhammad   Qasim'"
      ]
     },
     "metadata": {},
     "output_type": "display_data"
    }
   ],
   "source": [
    "a:str=\"                Muhammad   Qasim          \"\n",
    "display(a.lstrip())\n",
    "display(a.rstrip())\n",
    "display(a.strip())"
   ]
  },
  {
   "cell_type": "code",
   "execution_count": 7,
   "metadata": {},
   "outputs": [
    {
     "data": {
      "text/plain": [
       "'         Muhammad Ahsaan   Abbasi            '"
      ]
     },
     "metadata": {},
     "output_type": "display_data"
    },
    {
     "data": {
      "text/plain": [
       "'Muhammad Ahsaan Abbasi'"
      ]
     },
     "metadata": {},
     "output_type": "display_data"
    }
   ],
   "source": [
    "import re\n",
    "name:str=\"         Muhammad Ahsaan   Abbasi            \"\n",
    "display(name)\n",
    "name1:str=re.sub(' {1,100}',' ',name).strip()\n",
    "display(name1)"
   ]
  },
  {
   "cell_type": "code",
   "execution_count": 8,
   "metadata": {},
   "outputs": [
    {
     "name": "stdout",
     "output_type": "stream",
     "text": [
      "['capitalize', 'casefold', 'center', 'count', 'encode', 'endswith', 'expandtabs', 'find', 'format', 'format_map', 'index', 'isalnum', 'isalpha', 'isascii', 'isdecimal', 'isdigit', 'isidentifier', 'islower', 'isnumeric', 'isprintable', 'isspace', 'istitle', 'isupper', 'join', 'ljust', 'lower', 'lstrip', 'maketrans', 'partition', 'removeprefix', 'removesuffix', 'replace', 'rfind', 'rindex', 'rjust', 'rpartition', 'rsplit', 'rstrip', 'split', 'splitlines', 'startswith', 'strip', 'swapcase', 'title', 'translate', 'upper', 'zfill']\n"
     ]
    }
   ],
   "source": [
    "name:str=\"Muahmad Ahsaan Abbasi\"\n",
    "print([i for i in dir (name) if '__' not in i ])"
   ]
  },
  {
   "cell_type": "markdown",
   "metadata": {},
   "source": [
    "#More Methods Of Strings"
   ]
  },
  {
   "cell_type": "code",
   "execution_count": 146,
   "metadata": {},
   "outputs": [
    {
     "name": "stdout",
     "output_type": "stream",
     "text": [
      "2\n",
      "15\n",
      "False\n",
      "False\n",
      "False\n",
      "Hijab Rabail Khan\n",
      "True\n",
      "Hijab Rabail Khan\n",
      "False\n",
      "False\n",
      "('Hijab Rabail Khan', '', '')\n",
      "Hijab Chuzzi Khan\n",
      "6\n",
      "6\n",
      "['Hijab Rabail Khan']\n",
      "Hijab Rabail Khan\n",
      "6\n"
     ]
    }
   ],
   "source": [
    "name:str=\"Muhammad Ahsaan Abbasi\"\n",
    "fname:str='Muhammad Israr'\n",
    "age:int=20\n",
    "education:str='Intermediate'\n",
    "\n",
    "card:str=f\"\"\"\n",
    "PIAIC Student Card\n",
    "Student Name:  {name}\n",
    "Father  Name:  {fname.center(15)}\n",
    "Age: {age}\n",
    "Education: {education}\n",
    "\"\"\"\n",
    "\n",
    "print(card.count(\"Name\"))\n",
    "print(card.find(\"Card\"))\n",
    "print(card.isidentifier())\n",
    "print(card.islower())\n",
    "print(card.istitle())\n",
    "\n",
    "#Join, Replace, Split\n",
    "person:str=\"Hijab Rabail Khan\"\n",
    "# print(person.join(\"Rabail Khan\"))\n",
    "print(person.removeprefix(\"Hijabie \"))\n",
    "print(person.endswith(\"Rabail Khan\"))\n",
    "print(person.expandtabs(8))\n",
    "print(person.isdecimal())\n",
    "print(person.isdigit())\n",
    "# print(person.ljust(\"HIjabie\"))\n",
    "print(person.partition(\"Hijabie\",))\n",
    "print(person.replace(\"Rabail\",\"Chuzzi\"))\n",
    "print(person.rfind(\"Rabail\"))\n",
    "print(person.rindex(\"Rabail\"))\n",
    "print(person.splitlines())\n",
    "print(person.translate(\"Hijab\"))\n",
    "print(person.index(\"Rabail\"))\n",
    "\n"
   ]
  },
  {
   "cell_type": "markdown",
   "metadata": {},
   "source": [
    "#Exercise chapter 2"
   ]
  },
  {
   "cell_type": "code",
   "execution_count": 38,
   "metadata": {},
   "outputs": [
    {
     "name": "stdout",
     "output_type": "stream",
     "text": [
      "Hello Eric, would you like to learn some Python today?\n",
      "hijabie rabail khan\n",
      "HIJABIE RABAIL KHAN\n",
      "Hijabie Rabail Khan\n",
      "Albert Einstein once said, “A person who never made a mistake never tried anything new.”\n",
      "Mirza Ghalib once said, “It is the heart, not the house or the wall, why doesn't it fill with pain?     We'll cry a thousand times; why does someone continue to torment us?” \n",
      "\tHijab Rabail Khan\t\n"
     ]
    },
    {
     "data": {
      "text/plain": [
       "'Hijab Rabail Khan'"
      ]
     },
     "metadata": {},
     "output_type": "display_data"
    }
   ],
   "source": [
    "#Q2.3\n",
    "message:str=\"Hello Eric, would you like to learn some Python today?\"\n",
    "print(message)\n",
    "\n",
    "#Q2.4\n",
    "person:str=\"Hijabie rabail khan\"\n",
    "print(person.lower())\n",
    "print(person.upper())\n",
    "print(person.title())\n",
    "\n",
    "#Q2.5\n",
    "quote:str='Albert Einstein once said, “A person who never made a mistake never tried anything new.”'\n",
    "print(quote)\n",
    "\n",
    "#Q2.6\n",
    "quote2:str=\"Mirza Ghalib once said, “It is the heart, not the house or the wall, why doesn't it fill with pain? \\\n",
    "    We'll cry a thousand times; why does someone continue to torment us?” \"\n",
    "print(quote2)\n",
    "\n",
    "#Q2.7\n",
    "person1:str='\\tHijab Rabail Khan\\t'\n",
    "print(person1)\n",
    "# display(person1.rstrip())\n",
    "# display(person1.lstrip())\n",
    "display(person1.strip())\n"
   ]
  }
 ],
 "metadata": {
  "kernelspec": {
   "display_name": "base",
   "language": "python",
   "name": "python3"
  },
  "language_info": {
   "codemirror_mode": {
    "name": "ipython",
    "version": 3
   },
   "file_extension": ".py",
   "mimetype": "text/x-python",
   "name": "python",
   "nbconvert_exporter": "python",
   "pygments_lexer": "ipython3",
   "version": "3.12.0"
  }
 },
 "nbformat": 4,
 "nbformat_minor": 2
}
