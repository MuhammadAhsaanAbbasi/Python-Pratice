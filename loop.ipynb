{
 "cells": [
  {
   "cell_type": "markdown",
   "metadata": {},
   "source": [
    "# Loop and input from user \n",
    "* While\n",
    "* for \n",
    "* Control\n",
    "   * break\n",
    "   * Continue\n",
    "   * Pass \n",
    "* input with input function\n",
    "* input from console\n",
    "\n",
    "# Loop working on interative datatypes\n",
    "* list \n",
    "* dictonary\n",
    "* tuple\n",
    "* str"
   ]
  },
  {
   "cell_type": "code",
   "execution_count": 6,
   "metadata": {},
   "outputs": [
    {
     "name": "stdout",
     "output_type": "stream",
     "text": [
      "let me see if I can find you a civic\n",
      "That their table is ready.\n",
      "The Number 40 is divisible by 10\n"
     ]
    }
   ],
   "source": [
    "# Exercise 7.1\n",
    "car_user: str = input(\"What kind of rental you would like?\")\n",
    "print(f'let me see if I can find you a {car_user}')\n",
    "\n",
    "#Exercise 7.2\n",
    "dinner_group: str = int(input(\"How many people are in your dinner group?\"))\n",
    "if dinner_group > 8:\n",
    "    print(\"you'll have to wait for a table\")\n",
    "else:\n",
    "    print(\"That their table is ready.\")\n",
    "\n",
    "# Exercise 7.3\n",
    "number: str = int(input(\"Enter a Number?\"))\n",
    "\n",
    "if number%10==0:\n",
    "    print(f\"The Number {number} is divisible by 10\")\n",
    "else:\n",
    "    print(f\"The number {number} is not divisible by 10\")"
   ]
  },
  {
   "cell_type": "markdown",
   "metadata": {},
   "source": [
    "# While Loop"
   ]
  },
  {
   "cell_type": "code",
   "execution_count": 9,
   "metadata": {},
   "outputs": [
    {
     "name": "stdout",
     "output_type": "stream",
     "text": [
      "I love Pakistan\n",
      "I love Pakistan\n",
      "I love Pakistan\n",
      "I love Pakistan\n",
      "I love Pakistan\n",
      "I love Pakistan\n",
      "I love Pakistan\n",
      "I love Pakistan\n",
      "I Love you hijabie\n",
      "I Love you hijabie\n",
      "I Love you hijabie\n"
     ]
    }
   ],
   "source": [
    "flag: bool = True\n",
    "current_number: int = 2\n",
    "while flag:\n",
    "    print(f\"I love Pakistan\")\n",
    "    current_number+=1\n",
    "    if current_number==10:\n",
    "        break\n",
    "\n",
    "l1: list[int] =[100,200,300]\n",
    "index: int = 0\n",
    "while index<len(l1):\n",
    "    print(f\"I Love you hijabie\")\n",
    "    index+=1"
   ]
  },
  {
   "cell_type": "code",
   "execution_count": 10,
   "metadata": {},
   "outputs": [
    {
     "name": "stdout",
     "output_type": "stream",
     "text": [
      "I love you hijabie\n"
     ]
    },
    {
     "data": {
      "text/plain": [
       "[{'name': 'Hijabie', 'Education': 'BSCS'}]"
      ]
     },
     "metadata": {},
     "output_type": "display_data"
    },
    {
     "name": "stdout",
     "output_type": "stream",
     "text": [
      "I love you hijabie\n"
     ]
    },
    {
     "data": {
      "text/plain": [
       "[{'name': 'Hijabie', 'Education': 'BSCS'},\n",
       " {'name': 'hijabie', 'Education': 'bscs'}]"
      ]
     },
     "metadata": {},
     "output_type": "display_data"
    },
    {
     "name": "stdout",
     "output_type": "stream",
     "text": [
      "I love you hijabie\n"
     ]
    }
   ],
   "source": [
    "data: list[dict[str,str]] = []\n",
    "flag: bool = True\n",
    "\n",
    "while flag:\n",
    "    print(\"I love you hijabie\")\n",
    "    name: str = input(\"Enter YOur Name\")\n",
    "    Education: str = input(\"Enter Education\")\n",
    "    if name in ['exit','quite','stop'] or Education in ['exit','quite','stop']:\n",
    "        flag = False\n",
    "        break\n",
    "    else:\n",
    "        data.append({\"name\":name,\n",
    "                    \"Education\":Education})\n",
    "        display(data)"
   ]
  },
  {
   "cell_type": "code",
   "execution_count": 17,
   "metadata": {},
   "outputs": [
    {
     "name": "stdout",
     "output_type": "stream",
     "text": [
      "1\n",
      "2\n",
      "3\n",
      "4\n",
      "5\n",
      "1\n",
      "2\n",
      "3\n",
      "4\n",
      "5\n",
      "6\n",
      "7\n",
      "9\n",
      "10\n"
     ]
    }
   ],
   "source": [
    "# Controls\n",
    "#break\n",
    "\n",
    "for i in range(1,11):\n",
    "    print(i)\n",
    "    if i==5:\n",
    "        break\n",
    "\n",
    "#continue\n",
    "\n",
    "for i in range(1,11):\n",
    "    if i==8:\n",
    "        continue\n",
    "    print(i)\n",
    "\n",
    "#pass\n",
    "for i in range(1,1000):\n",
    "    pass"
   ]
  },
  {
   "cell_type": "code",
   "execution_count": 8,
   "metadata": {},
   "outputs": [
    {
     "name": "stdout",
     "output_type": "stream",
     "text": [
      "Hijabie favourite place is istanbul\n",
      "abbasi favourite place is hijabie heart\n"
     ]
    }
   ],
   "source": [
    "# Exercise 7.8\n",
    "sandwich_orders: list[str] = [\"Tuna Sandwich\",\"Pastrami Sandwich\",\"Egg Sandwich\",\"Chicken Sandwich\"]\n",
    "finished_sandwichs: list[str] = []\n",
    "\n",
    "while sandwich_orders:\n",
    "    current_orders = sandwich_orders.pop()\n",
    "    print(f\"\\nI made your {current_orders}\")\n",
    "    finished_sandwichs.append(current_orders)\n",
    "for finished_sandwich in finished_sandwichs:\n",
    "    print(f\"\\nYour {finished_sandwich} has been ready\")\n",
    "\n",
    "# #Exercise 7.9\n",
    "sandwich_orders: list[str] = [\"Tuna Sandwich\",\"Pastrami Sandwich\",\"Egg Sandwich\",\"Chicken Sandwich\",\"Pastrami Sandwich\",\"Pastrami Sandwich\"]\n",
    "print(sandwich_orders)\n",
    "while \"Pastrami Sandwich\" in sandwich_orders:\n",
    "    sandwich_orders.remove(\"Pastrami Sandwich\")\n",
    "print(sandwich_orders)\n",
    "\n",
    "#Exercise 7.10\n",
    "from typing import Dict\n",
    "response: Dict[str,str] = {}\n",
    "poll_active = True\n",
    "while poll_active:\n",
    "    name: str = input(\"Enter Your Name?\")\n",
    "    place: str = input(\"Enter your favourite place?\")\n",
    "    \n",
    "    response[name] = place\n",
    "    \n",
    "    repeat: str = input(\"Would you like to take another response? press y/n\")\n",
    "    if repeat == \"n\":\n",
    "        poll_active = False\n",
    "\n",
    "for name,res in response.items():\n",
    "    print(f\"{name} favourite place is {res}\")"
   ]
  }
 ],
 "metadata": {
  "kernelspec": {
   "display_name": "python12",
   "language": "python",
   "name": "python3"
  },
  "language_info": {
   "codemirror_mode": {
    "name": "ipython",
    "version": 3
   },
   "file_extension": ".py",
   "mimetype": "text/x-python",
   "name": "python",
   "nbconvert_exporter": "python",
   "pygments_lexer": "ipython3",
   "version": "3.12.0"
  }
 },
 "nbformat": 4,
 "nbformat_minor": 2
}
