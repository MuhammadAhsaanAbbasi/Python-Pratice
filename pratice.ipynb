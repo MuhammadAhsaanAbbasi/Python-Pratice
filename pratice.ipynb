{
 "cells": [
  {
   "cell_type": "code",
   "execution_count": 6,
   "metadata": {},
   "outputs": [
    {
     "name": "stdout",
     "output_type": "stream",
     "text": [
      "Hello ahsaan Abbasi, Would you like to learn Python today?\n"
     ]
    }
   ],
   "source": [
    "# Q2\n",
    "person = input(\"Enter your Name?\")\n",
    "\n",
    "print(f'Hello {person}, Would you like to learn Python today?')"
   ]
  },
  {
   "cell_type": "code",
   "execution_count": null,
   "metadata": {},
   "outputs": [
    {
     "name": "stdout",
     "output_type": "stream",
     "text": [
      "Hello AHSAAN ABBASI, Would you like to learn Python today?\n",
      "Hello ahsaan abbasi, Would you like to learn Python today?\n",
      "Hello Ahsaan Abbasi, Would you like to learn Python today?\n"
     ]
    }
   ],
   "source": [
    "upper_case = person.upper()\n",
    "print(f'Hello {upper_case}, Would you like to learn Python today?')\n",
    "\n",
    "lower_case = person.lower()\n",
    "print(f'Hello {upper_case}, Would you like to learn Python today?')\n",
    "\n",
    "title_case = person.title()\n",
    "print(f'Hello {upper_case}, Would you like to learn Python today?')\n"
   ]
  },
  {
   "cell_type": "code",
   "execution_count": 9,
   "metadata": {},
   "outputs": [
    {
     "name": "stdout",
     "output_type": "stream",
     "text": [
      "Albert Einstein once said, \"A person who never made a mistake never tried anything new.\"\n"
     ]
    }
   ],
   "source": [
    "# Q.4\n",
    "famous_person = \"Albert Einstein\"\n",
    "message = \"A person who never made a mistake never tried anything new.\"\n",
    "\n",
    "print(f'{famous_person} once said, \"{message}\"')"
   ]
  },
  {
   "cell_type": "code",
   "execution_count": null,
   "metadata": {},
   "outputs": [
    {
     "name": "stdout",
     "output_type": "stream",
     "text": [
      "Mirza Ghalib once said, \"I am not a writer, but I am a poet.\"\n"
     ]
    }
   ],
   "source": [
    "# Q.5\n",
    "famous_person = \"Mirza Ghalib\"\n",
    "quote = \"I am not a writer, but I am a poet.\"\n",
    "message = f'{famous_person} once said, \"{quote}\"'\n",
    "\n",
    "print(message)"
   ]
  },
  {
   "cell_type": "code",
   "execution_count": 19,
   "metadata": {},
   "outputs": [
    {
     "name": "stdout",
     "output_type": "stream",
     "text": [
      "\tMuhammad Ahsaan Abbasi\t\n",
      "Muhammad Ahsaan Abbasi\t\n",
      "\tMuhammad Ahsaan Abbasi\n",
      "Muhammad Ahsaan Abbasi\n"
     ]
    }
   ],
   "source": [
    "# Q.6\n",
    "person_name = \"\\tMuhammad Ahsaan Abbasi\\t\"\n",
    "print(person_name)\n",
    "\n",
    "print(person_name.lstrip())\n",
    "print(person_name.rstrip())\n",
    "print(person_name.strip())"
   ]
  },
  {
   "cell_type": "code",
   "execution_count": 22,
   "metadata": {},
   "outputs": [
    {
     "name": "stdout",
     "output_type": "stream",
     "text": [
      "8\n",
      "8\n",
      "8\n",
      "8.0\n",
      "===================================================\n",
      "8\n",
      "===================================================\n",
      "8\n",
      "===================================================\n",
      "8\n",
      "===================================================\n",
      "8.0\n",
      "===================================================\n"
     ]
    }
   ],
   "source": [
    "# Q7.\n",
    "print(5 + 3)\n",
    "print(12-4)\n",
    "print(4*2)\n",
    "print(16/2)\n",
    "\n",
    "# Q8. \n",
    "print(\"===================================================\")\n",
    "print(4+4)\n",
    "print(\"===================================================\")\n",
    "print(14-6)\n",
    "print(\"===================================================\")\n",
    "print(2*4)\n",
    "print(\"===================================================\")\n",
    "print(24/3)\n",
    "print(\"===================================================\")"
   ]
  },
  {
   "cell_type": "code",
   "execution_count": 23,
   "metadata": {},
   "outputs": [
    {
     "name": "stdout",
     "output_type": "stream",
     "text": [
      "Yo're favorite number is 5\n"
     ]
    }
   ],
   "source": [
    "# Q.9\n",
    "favorite_number = int(input(\"Enter your favourite number: \"))\n",
    "print(f\"Yo're favorite number is {favorite_number}\")"
   ]
  },
  {
   "cell_type": "code",
   "execution_count": 25,
   "metadata": {},
   "outputs": [
    {
     "name": "stdout",
     "output_type": "stream",
     "text": [
      "Zyab\n",
      "Bilal\n",
      "Yasir\n",
      "Haseeb\n",
      "Emad\n",
      "Hello Zyab, kamene! how are you?\n",
      "Hello Bilal, kamene! how are you?\n",
      "Hello Yasir, kamene! how are you?\n",
      "Hello Haseeb, kamene! how are you?\n",
      "Hello Emad, kamene! how are you?\n"
     ]
    }
   ],
   "source": [
    "# Q.10\n",
    "names = [\"Zyab\", \"Bilal\", \"Yasir\", \"Haseeb\", \"Emad\"]\n",
    "for name in names:\n",
    "    print(name)\n",
    "\n",
    "# Q.11\n",
    "for name in names:\n",
    "    print(f\"Hello {name}, kamene! how are you?\")"
   ]
  },
  {
   "cell_type": "code",
   "execution_count": 26,
   "metadata": {},
   "outputs": [
    {
     "name": "stdout",
     "output_type": "stream",
     "text": [
      "I would like to own a Ducati Bike.\n",
      "I would like to own a Civic CAr.\n",
      "I would like to own a Mercedes Car.\n",
      "I would like to own a Huracen Spidyer.\n"
     ]
    }
   ],
   "source": [
    "# Q.12\n",
    "transportation = [\"Ducati Bike\", \"Civic CAr\", \"Mercedes Car\", \"Huracen Spidyer\"]\n",
    "\n",
    "for transport in transportation:\n",
    "    print(f\"I would like to own a {transport}.\")"
   ]
  },
  {
   "cell_type": "code",
   "execution_count": 56,
   "metadata": {},
   "outputs": [
    {
     "name": "stdout",
     "output_type": "stream",
     "text": [
      "Dear Zyab, I would like to invite you to dinner.\n",
      "Dear Hijab, I would like to invite you to dinner.\n",
      "Dear Muqadas, I would like to invite you to dinner.\n",
      "Dear Alizay, I would like to invite you to dinner.\n"
     ]
    }
   ],
   "source": [
    "# Q?14\n",
    "guest_list = [\"Zyab\", \"Hijab\", \"Muqadas\", \"Alizay\" ]\n",
    "\n",
    "for guest in guest_list:\n",
    "    print(f\"Dear {guest}, I would like to invite you to dinner.\")"
   ]
  },
  {
   "cell_type": "code",
   "execution_count": 57,
   "metadata": {},
   "outputs": [
    {
     "name": "stdout",
     "output_type": "stream",
     "text": [
      "The Muqadas is not Coming for some Issues!\n",
      "Zyab you are invited to the dinner\n",
      "Hijab you are invited to the dinner\n",
      "Haseeb you are invited to the dinner\n",
      "Alizay you are invited to the dinner\n"
     ]
    }
   ],
   "source": [
    "# Q?15\n",
    "print(f'The {guest_list[2]} is not Coming for some Issues!')\n",
    "guest_list[2] = 'Haseeb'\n",
    "for guest in guest_list:\n",
    "    print(f'{guest} you are invited to the dinner')"
   ]
  },
  {
   "cell_type": "code",
   "execution_count": 58,
   "metadata": {},
   "outputs": [
    {
     "name": "stdout",
     "output_type": "stream",
     "text": [
      "I found a bigger dinner table, so I'm Inviting more peoples on dinner\n",
      "Mehwish you are invited to the dinner\n",
      "Zyab you are invited to the dinner\n",
      "Sara you are invited to the dinner\n",
      "Hijab you are invited to the dinner\n",
      "Haseeb you are invited to the dinner\n",
      "Alizay you are invited to the dinner\n",
      "RAWa you are invited to the dinner\n"
     ]
    }
   ],
   "source": [
    "# Q?16\n",
    "print(\"I found a bigger dinner table, so I'm Inviting more peoples on dinner\")\n",
    "guest_list.insert(0, \"Mehwish\")\n",
    "guest_list.insert(2, \"Sara\")\n",
    "guest_list.append(\"RAWa\")\n",
    "\n",
    "for guest in guest_list:\n",
    "    print(f'{guest} you are invited to the dinner')"
   ]
  },
  {
   "cell_type": "code",
   "execution_count": 59,
   "metadata": {},
   "outputs": [
    {
     "name": "stdout",
     "output_type": "stream",
     "text": [
      "The table won’t arrive in time for the dinner, and you have space for only two guests.\n",
      "Sorry RAWa, I can't invite you to dinner.\n",
      "Sorry Alizay, I can't invite you to dinner.\n",
      "Sorry Mehwish, I can't invite you to dinner.\n",
      "Sorry Sara, I can't invite you to dinner.\n",
      "Dear Zyab, you are still invited to dinner.\n",
      "Dear Hijab, you are still invited to dinner.\n",
      "Dear Haseeb, you are still invited to dinner.\n",
      "[]\n"
     ]
    }
   ],
   "source": [
    "# Q?17\n",
    "print(\"The table won’t arrive in time for the dinner, and you have space for only two guests.\")\n",
    "\n",
    "print(f\"Sorry {guest_list.pop()}, I can't invite you to dinner.\")\n",
    "print(f\"Sorry {guest_list.pop()}, I can't invite you to dinner.\")\n",
    "print(f\"Sorry {guest_list.pop(0)}, I can't invite you to dinner.\")\n",
    "print(f\"Sorry {guest_list.pop(1)}, I can't invite you to dinner.\")\n",
    "\n",
    "for guest in guest_list:\n",
    "    print(f\"Dear {guest}, you are still invited to dinner.\")\n",
    "\n",
    "del guest_list[0]\n",
    "del guest_list[0]\n",
    "del guest_list[0]\n",
    "\n",
    "print(guest_list)"
   ]
  },
  {
   "cell_type": "code",
   "execution_count": null,
   "metadata": {},
   "outputs": [
    {
     "name": "stdout",
     "output_type": "stream",
     "text": [
      "['Makkah', 'Madina', 'Istanbul', 'Islamabad']\n",
      "['Islamabad', 'Istanbul', 'Madina', 'Makkah'] sorted\n",
      "['Makkah', 'Madina', 'Istanbul', 'Islamabad']\n",
      "['Makkah', 'Madina', 'Istanbul', 'Islamabad'] reverse\n",
      "['Makkah', 'Madina', 'Istanbul', 'Islamabad']\n",
      "['Islamabad', 'Istanbul', 'Madina', 'Makkah'] reverse\n",
      "['Makkah', 'Madina', 'Istanbul', 'Islamabad'] reverse Original\n",
      "['Islamabad', 'Istanbul', 'Madina', 'Makkah'] sort order\n",
      "['Makkah', 'Madina', 'Istanbul', 'Islamabad'] Reverse sort order\n"
     ]
    }
   ],
   "source": [
    "# Q?18 \n",
    "places = [\"Makkah\", \"Madina\", \"Istanbul\", \"Islamabad\"]\n",
    "print(places)\n",
    "print(sorted(places), \"sorted\")\n",
    "print(places)\n",
    "print(sorted(places, reverse=True), \"reverse\")\n",
    "print(places)\n",
    "places.reverse()\n",
    "print(places, \"reverse\")\n",
    "places.reverse()\n",
    "print(places, \"reverse Original\")\n",
    "places.sort()\n",
    "print(places, \"sort order\")\n",
    "places.sort(reverse=True)\n",
    "print(places, \"Reverse sort order\")"
   ]
  },
  {
   "cell_type": "code",
   "execution_count": 78,
   "metadata": {},
   "outputs": [
    {
     "name": "stdout",
     "output_type": "stream",
     "text": [
      "I'm Inviting 0 in the dinner\n"
     ]
    }
   ],
   "source": [
    "# Q.19\n",
    "print(f\"I'm Inviting {len(guest_list)} in the dinner\")"
   ]
  },
  {
   "cell_type": "code",
   "execution_count": 79,
   "metadata": {},
   "outputs": [
    {
     "name": "stdout",
     "output_type": "stream",
     "text": [
      "['Pakistan', 'India', 'China']\n",
      "['China', 'India', 'Pakistan']\n",
      "China\n",
      "['Turkey', 'India']\n",
      "['Turkey', 'India', 'Afghanistan']\n",
      "['Turkey', 'India', 'Afghanistan']\n",
      "['Pakistan', 'Turkey', 'India', 'Afghanistan']\n",
      "['Pakistan', 'Turkey', 'Afghanistan']\n",
      "['Pakistan', 'Turkey', 'Afghanistan', 'India', 'Nepal', 'Bangladesh']\n"
     ]
    }
   ],
   "source": [
    "# Q.20\n",
    "list = [\"Pakistan\", \"India\", \"China\"]\n",
    "print(list)\n",
    "print(sorted(list))\n",
    "print(list.pop())\n",
    "list[0] = \"Turkey\"\n",
    "print(list)\n",
    "list.append(\"Afghanistan\")\n",
    "print(list)\n",
    "print(list)\n",
    "list.insert(0,\"Pakistan\")\n",
    "print(list)\n",
    "list.remove(\"India\")\n",
    "print(list)\n",
    "mountains2 = [\"India\",\"Nepal\",\"Bangladesh\"]\n",
    "list.extend(mountains2)\n",
    "print(list)"
   ]
  },
  {
   "cell_type": "code",
   "execution_count": 80,
   "metadata": {},
   "outputs": [
    {
     "name": "stdout",
     "output_type": "stream",
     "text": [
      "{'name': 'M. Ahsaan Abbasi', 'fname': 'M. Israr', 'age': 20, 'qualification': 'Undergraduate'}\n"
     ]
    }
   ],
   "source": [
    "# Q.21\n",
    "\n",
    "python_object = {\n",
    "    \"name\": \"M. Ahsaan Abbasi\",\n",
    "    \"fname\": \"M. Israr\",\n",
    "    \"age\": 20,\n",
    "    \"qualification\": \"Undergraduate\",\n",
    "}\n",
    "\n",
    "print(python_object)"
   ]
  }
 ],
 "metadata": {
  "kernelspec": {
   "display_name": "open-service-uQHKusx_-py3.12",
   "language": "python",
   "name": "python3"
  },
  "language_info": {
   "codemirror_mode": {
    "name": "ipython",
    "version": 3
   },
   "file_extension": ".py",
   "mimetype": "text/x-python",
   "name": "python",
   "nbconvert_exporter": "python",
   "pygments_lexer": "ipython3",
   "version": "3.12.4"
  }
 },
 "nbformat": 4,
 "nbformat_minor": 2
}
