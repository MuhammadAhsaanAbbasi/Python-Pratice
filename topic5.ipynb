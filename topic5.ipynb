{
 "cells": [
  {
   "cell_type": "markdown",
   "metadata": {},
   "source": [
    "# If Else Statement"
   ]
  },
  {
   "cell_type": "code",
   "execution_count": 2,
   "metadata": {},
   "outputs": [
    {
     "name": "stdout",
     "output_type": "stream",
     "text": [
      "Audi\n",
      "BMW\n",
      "Subaru\n",
      "Toyota\n"
     ]
    }
   ],
   "source": [
    "cars = ['audi', 'bmw', 'subaru', 'toyota']\n",
    "\n",
    "for car in cars:\n",
    "    if car==\"bmw\":\n",
    "        print(car.upper())\n",
    "    else:\n",
    "        print(car.title())"
   ]
  },
  {
   "cell_type": "markdown",
   "metadata": {},
   "source": [
    "# Comprehensive List of if-else Statement\n",
    "\n",
    "    '''\n",
    "    true_block if (logic) else false_block\n",
    "    '''"
   ]
  },
  {
   "cell_type": "code",
   "execution_count": 10,
   "metadata": {},
   "outputs": [
    {
     "name": "stdout",
     "output_type": "stream",
     "text": [
      "Hijabie\n"
     ]
    }
   ],
   "source": [
    "[i.upper() if i==\"bmw\" else i.title() for i in cars]\n",
    "\n",
    "if False:\n",
    "    print(\"True Block\")\n",
    "elif False:\n",
    "    print(\"Elif Code 1\")\n",
    "elif True:\n",
    "    print(\"Hijabie\")\n",
    "else:\n",
    "    print(\"Else block\")"
   ]
  },
  {
   "cell_type": "code",
   "execution_count": 3,
   "metadata": {},
   "outputs": [
    {
     "name": "stdout",
     "output_type": "stream",
     "text": [
      "Dear Student your Percentage is 80.0 now your calculated grade is: \tA+\n"
     ]
    }
   ],
   "source": [
    "# Grade System \n",
    "from typing import Union\n",
    "per: Union[int,float]=float(input(\"Enter your Percentage\"))\n",
    "grade:Union[str,None]=None\n",
    "\n",
    "if per>=80:\n",
    "    grade=\"A+\"\n",
    "elif per>=70:\n",
    "    grade=\"A\"\n",
    "elif per>=60:\n",
    "    grade=\"B\"\n",
    "elif per>=50:\n",
    "    grade=\"C\"\n",
    "elif per>=40:\n",
    "    grade=\"D\"\n",
    "elif per>=33:\n",
    "    grade=\"PASSED!\"\n",
    "else:\n",
    "    print(\"Failed!!\")\n",
    "\n",
    "print(f\"Dear Student your Percentage is {per} now your calculated grade is: \\t{grade}\")"
   ]
  },
  {
   "cell_type": "code",
   "execution_count": 1,
   "metadata": {},
   "outputs": [
    {
     "name": "stdout",
     "output_type": "stream",
     "text": [
      "Add Mushrooms on pizza\n",
      "Welcome to PIAIC\n"
     ]
    }
   ],
   "source": [
    "# in, not in if-else Statement \n",
    "\n",
    "requested_topping:list[str]=[\"Mushrooms\",\"Onions\",\"Cheese\"]\n",
    "\n",
    "if \"Mushrooms\" in requested_topping:\n",
    "    print(\"Add Mushrooms on pizza\")\n",
    "\n",
    "\"chicken\" not in requested_topping\n",
    "\n",
    "banned_students : list[str] = [\"Salman\",\"Bilal Jatoi\",\"Hira\"]\n",
    "user:str=input(\"Enter Your User Id\")\n",
    "\n",
    "if user not in banned_students:\n",
    "    print(\"Welcome to PIAIC\")\n",
    "\n"
   ]
  },
  {
   "cell_type": "code",
   "execution_count": 2,
   "metadata": {},
   "outputs": [
    {
     "name": "stdout",
     "output_type": "stream",
     "text": [
      "Add Mushrooms on pizza\n",
      "Add Cheese on pizza\n"
     ]
    }
   ],
   "source": [
    "requested_topping:list[str]=[\"Mushrooms\",\"Onions\",\"Cheese\"]\n",
    "\n",
    "if \"Mushrooms\" in requested_topping:\n",
    "    print(\"Add Mushrooms on pizza\")\n",
    "elif \"Pepporani\" in requested_topping:\n",
    "    print(\"Add Pepporani on pizza\")\n",
    "if \"Cheese\" in requested_topping:\n",
    "    print(\"Add Cheese on pizza\")"
   ]
  },
  {
   "cell_type": "code",
   "execution_count": 4,
   "metadata": {},
   "outputs": [
    {
     "name": "stdout",
     "output_type": "stream",
     "text": [
      "Are You to make a plain pizza\n"
     ]
    }
   ],
   "source": [
    "requested_toppings = []\n",
    "if requested_toppings:\n",
    "    for requested_topping in requested_toppings:\n",
    "        print(f'Adding {requested_topping}.')\n",
    "    print(\"\\nFinished making your pizza!\")\n",
    "else:\n",
    "        print(\"Are You to make a plain pizza\")"
   ]
  },
  {
   "cell_type": "code",
   "execution_count": 6,
   "metadata": {},
   "outputs": [
    {
     "name": "stdout",
     "output_type": "stream",
     "text": [
      "Adding: ['mushrooms', 'frenc\"h fries', 'extra cheese']\n",
      "Sorry Sir we don't have these toppings\n",
      "Adding: ['mushrooms', 'frenc\"h fries', 'extra cheese']\n",
      "\n",
      "Making your pizza\n"
     ]
    }
   ],
   "source": [
    "available_toppings = ['mushrooms', 'olives', 'green peppers',\n",
    "'pepperoni', 'pineapple', 'extra cheese']\n",
    "requested_toppings = ['mushrooms', 'frenc\"h fries', 'extra cheese']\n",
    "for requested_topping in requested_toppings:\n",
    "    if requested_topping in available_toppings:\n",
    "        print(f\"Adding: {requested_toppings}\")\n",
    "    else:\n",
    "        print(\"Sorry Sir we don't have these toppings\")\n",
    "\n",
    "print(\"\\nMaking your pizza\")"
   ]
  },
  {
   "cell_type": "code",
   "execution_count": 17,
   "metadata": {},
   "outputs": [
    {
     "name": "stdout",
     "output_type": "stream",
     "text": [
      "Is car == 'civic'? I predict True.\n",
      "True\n",
      "\n",
      "Is car == 'audi'? I predict False.\n",
      "False\n",
      "\n",
      "Is car.len() == 5? I predict False.\n",
      "True\n",
      "\n",
      "Is car.upper() == car? I predict False.\n",
      "False\n",
      "\n",
      "Is car.lower() == car? I predict False.\n",
      "True\n",
      "\n",
      "Is car.title() == car? I predict False.\n",
      "False\n",
      "\n",
      "Is car != 'audi'? I predict False.\n",
      "True\n",
      "\n",
      "Is car.len() < 5 car? I predict False.\n",
      "False\n",
      "\n",
      "Is car.len() > 5 car? I predict False.\n",
      "False\n",
      "\n",
      "Is car.len() < 5 car? I predict False.\n",
      "True\n"
     ]
    }
   ],
   "source": [
    "# Exercise 5.1\n",
    "car=\"civic\"\n",
    "print(\"Is car == 'civic'? I predict True.\")\n",
    "print(car == 'civic')\n",
    "print(\"\\nIs car == 'audi'? I predict False.\")\n",
    "print(car == 'audi')\n",
    "print(\"\\nIs car.len() == 5? I predict True.\")\n",
    "print(car.__len__() == 5)\n",
    "print(\"\\nIs car.upper() == car? I predict False.\")\n",
    "print(car.upper() == car)\n",
    "print(\"\\nIs car.lower() == car? I predict True.\")\n",
    "print(car.lower() == car)\n",
    "print(\"\\nIs car.title() == car? I predict False.\")\n",
    "print(car.title() == car)\n",
    "print(\"\\nIs car != 'audi'? I predict True.\")\n",
    "print(car != 'audi')\n",
    "print(\"\\nIs car.len() < 5 car? I predict False.\")\n",
    "print(car.__len__() < 5)\n",
    "print(\"\\nIs car.len() > 5 car? I predict False.\")\n",
    "print(car.__len__() > 5)\n",
    "print(\"\\nIs car.len() < 5 car? I predict True.\")\n",
    "print(car.startswith(\"civ\"))\n"
   ]
  },
  {
   "cell_type": "code",
   "execution_count": 14,
   "metadata": {},
   "outputs": [
    {
     "name": "stdout",
     "output_type": "stream",
     "text": [
      "Is car == 'Mercdes'? I predict True.\n",
      "True\n",
      "\n",
      "Is car != 'mercdes'? I predict False.\n",
      "False\n",
      "\n",
      "Is car.lower() == 5? I predict True.\n",
      "True\n",
      "\n",
      "Is num == 5? I predict True.\n",
      "True\n",
      "\n",
      "Is num != 5? I predict False.\n",
      "False\n",
      "\n",
      "Is num >= 5? I predict True.\n",
      "False\n",
      "\n",
      "Is num != 5? I predict False.\n",
      "True\n",
      "\n",
      "Is num == 5? I predict True.\n",
      "True\n",
      "\n",
      "Is num != 5? I predict False.\n",
      "False\n",
      "\n",
      "Incorrect Email or Password\n",
      "\n",
      "Please Serve it\n",
      "Hijabie\n",
      "Fajar\n",
      "Rawa\n",
      "Arbaz\n",
      "Arbaz\n",
      "Arbaz\n",
      "Arbaz\n",
      "Arbaz\n"
     ]
    }
   ],
   "source": [
    "# Exercise 5.2\n",
    "car=\"Mercdes\"\n",
    "\n",
    "print(\"Is car == 'Mercdes'? I predict True.\")\n",
    "print(car == 'Mercdes')\n",
    "print(\"\\nIs car != 'mercdes'? I predict False.\")\n",
    "print(car != 'Mercdes')\n",
    "print(\"\\nIs car.lower() == 5? I predict True.\")\n",
    "print(car.title() == car)\n",
    "\n",
    "num=5\n",
    "print(\"\\nIs num == 5? I predict True.\")\n",
    "print(num == 5)\n",
    "print(\"\\nIs num != 5? I predict False.\")\n",
    "print(num != 5)\n",
    "print(\"\\nIs num >= 5? I predict True.\")\n",
    "print(num >= 8)\n",
    "print(\"\\nIs num != 5? I predict False.\")\n",
    "print(num <= 6)\n",
    "print(\"\\nIs num == 5? I predict True.\")\n",
    "print(num < 6)\n",
    "print(\"\\nIs num != 5? I predict False.\")\n",
    "print(num > 5)\n",
    "\n",
    "email: str = \"hijabie@gmail.com\"\n",
    "password: str = \"hijabie123\"\n",
    "\n",
    "if email==\"hijab@gmail.com\" and password==\"hijabie123\":\n",
    "    print(\"\\nLogin Successfully!\")\n",
    "else:\n",
    "    print(\"\\nIncorrect Email or Password\")\n",
    "    \n",
    "food1: str = \"biryani\"\n",
    "food2: str = \"shawarma\"\n",
    "\n",
    "if food1==\"biryani\" or food2==\"mutton biryani\":\n",
    "    print(\"\\nPlease Serve it\")\n",
    "else:\n",
    "    print(\"\\nNot Serve it\")\n",
    "\n",
    "family: list[str] = [\"Hijabie\",\"Fajar\",\"Rawa\",\"Arbaz\"]\n",
    "\n",
    "for hijabe in family:\n",
    "    if \"Mujeeb\" in hijabe:\n",
    "        print(hijabe[3])\n",
    "    else:\n",
    "        print(hijabe)\n",
    "        \n",
    "for hijabe in family:\n",
    "    if \"Mujeeb\" not in hijabe:\n",
    "        print(family[3])\n",
    "    else:\n",
    "        print(hijabe)"
   ]
  },
  {
   "cell_type": "code",
   "execution_count": 21,
   "metadata": {},
   "outputs": [
    {
     "name": "stdout",
     "output_type": "stream",
     "text": [
      "player just earned 5 points\n",
      "\n",
      "player just earned 5 points\n",
      "\n",
      "player just earned 10 points\n",
      "\n",
      "player just earned 10 points\n",
      "\n",
      "player just earned 5 points\n",
      "\n",
      "player just earned 10 points\n",
      "\n",
      "player just earned 15 points\n"
     ]
    }
   ],
   "source": [
    "# Exercise 5.3\n",
    "alien_colors: list[str] = [\"green\",\"yellow\",\"red\"]\n",
    "\n",
    "for alien_color in alien_colors:\n",
    "    if alien_color==\"green\":\n",
    "        print(\"player just earned 5 points\")\n",
    "# Exercise 5.4\n",
    "alien_colors: list[str] = [\"green\",\"yellow\",\"red\"]\n",
    "\n",
    "for alien_color in alien_colors:\n",
    "    if alien_color==\"green\":\n",
    "        print(\"\\nplayer just earned 5 points\")\n",
    "    else:\n",
    "        print(\"\\nplayer just earned 10 points\")\n",
    "\n",
    "#Exercise 5.5\n",
    "alien_colors: list[str] = [\"green\",\"yellow\",\"red\"]\n",
    "\n",
    "for alien_color in alien_colors:\n",
    "    if alien_color==\"green\":\n",
    "        print(\"\\nplayer just earned 5 points\")\n",
    "    elif alien_color==\"yellow\":\n",
    "        print(\"\\nplayer just earned 10 points\")\n",
    "    elif alien_color==\"red\":\n",
    "        print(\"\\nplayer just earned 15 points\")"
   ]
  },
  {
   "cell_type": "code",
   "execution_count": 26,
   "metadata": {},
   "outputs": [
    {
     "name": "stdout",
     "output_type": "stream",
     "text": [
      "person is a adult\n",
      "You Really like Apple\n",
      "You Really like Mango\n",
      "You Really like Grapes\n"
     ]
    }
   ],
   "source": [
    "# Exercise 5.6 \n",
    "person: int = int(input(\"Enter your Age!\"))\n",
    "\n",
    "if person<2:\n",
    "    print(\"person is a toddler\")\n",
    "elif person==2 or person<4:\n",
    "    print(\"\\nperson is a kid\")\n",
    "elif person==4 or person<13:\n",
    "    print(\"\\nperson is a kid\")\n",
    "elif person==13 or person<20:\n",
    "    print(\"\\nperson is a teenager\")\n",
    "elif person==20 or person<65:\n",
    "    print(\"\\nperson is a adult\")\n",
    "else:\n",
    "    print(\"\\nperson is elder\")\n",
    "\n",
    "# Exercise 5.7\n",
    "fruits: list[str] = [\"Banana\",\"Apple\",\"Mango\",\"Grapes\",\"Orange\",\"Pears\",\"Peach\"]\n",
    "favourite_fruits: list[str] = input(\"Enter ',' Seperated Favourite Fruits\").split(',')\n",
    "\n",
    "for favourite_fruit in favourite_fruits:\n",
    "    if favourite_fruit in fruits:\n",
    "        print(f\"\\nYou Really like {favourite_fruit}\")"
   ]
  },
  {
   "cell_type": "code",
   "execution_count": 38,
   "metadata": {},
   "outputs": [
    {
     "name": "stdout",
     "output_type": "stream",
     "text": [
      "\n",
      "Hello Admin, Would you like to see a status report?\n",
      "\n",
      "such as Hello Hijabe, thank you for logging in again\n",
      "\n",
      "such as Hello Abbasi, thank you for logging in again\n",
      "\n",
      "such as Hello rivkhan, thank you for logging in again\n",
      "\n",
      "such as Hello Fajar, thank you for logging in again\n",
      "\n",
      "We need more users.\n",
      "\n",
      "Arbaz username is available.\n",
      "\n",
      "muqqadas username is available.\n",
      "\n",
      "Dear hijabie You have Already Account\n",
      "\n",
      "Taha username is available.\n",
      "\n",
      "Dear abbasi You have Already Account\n"
     ]
    }
   ],
   "source": [
    "# Exercise 5.8 \n",
    "users: list[str] = [\"Admin\",\"Hijabe\",\"Abbasi\",\"rivkhan\",\"Fajar\"]\n",
    "\n",
    "for user in users:\n",
    "    if user == \"Admin\":\n",
    "        print(f\"\\nHello {user}, Would you like to see a status report?\")\n",
    "    else:\n",
    "        print(f\"\\nsuch as Hello {user}, thank you for logging in again\")\n",
    "\n",
    "# Exercise 5.9 \n",
    "users: list[str] = [\"Admin\",\"Hijabe\",\"Abbasi\",\"rivkhan\",\"Fajar\"]\n",
    "users.clear()\n",
    "if len(users) == 0:\n",
    "    print(f\"\\nWe need more users.\")\n",
    "\n",
    "# Exercise 5.10\n",
    "current_users: list[str] = [\"hijabie\",\"fajar\",\"abbasi\",\"rivkhan\",\"taha\"]\n",
    "new_users: list[str] = [\"Arbaz\",\"muqqadas\",\"hijabie\",\"Taha\",\"abbasi\"]\n",
    "\n",
    "for new_user in new_users:\n",
    "    if new_user in current_users:\n",
    "        print(f\"\\nDear {new_user} You have Already Account\")\n",
    "    else:\n",
    "        print(f\"\\n{new_user} username is available.\")"
   ]
  },
  {
   "cell_type": "code",
   "execution_count": 41,
   "metadata": {},
   "outputs": [
    {
     "name": "stdout",
     "output_type": "stream",
     "text": [
      "1st\n",
      "2nd\n",
      "3rd\n",
      "4th\n",
      "5th\n",
      "6th\n",
      "7th\n",
      "8th\n",
      "9th\n"
     ]
    }
   ],
   "source": [
    "#Exercise 5.11\n",
    "ordinal_numbers: list[int] = [1,2,3,4,5,6,7,8,9]\n",
    "\n",
    "for ordinal_number in ordinal_numbers:\n",
    "    if ordinal_number == 1:\n",
    "        print(f'{ordinal_number}st')\n",
    "    elif ordinal_number == 2:\n",
    "        print(f'{ordinal_number}nd')\n",
    "    elif ordinal_number == 3:\n",
    "        print(f'{ordinal_number}rd')\n",
    "    else:\n",
    "        print(f'{ordinal_number}th')"
   ]
  }
 ],
 "metadata": {
  "kernelspec": {
   "display_name": "python12",
   "language": "python",
   "name": "python3"
  },
  "language_info": {
   "codemirror_mode": {
    "name": "ipython",
    "version": 3
   },
   "file_extension": ".py",
   "mimetype": "text/x-python",
   "name": "python",
   "nbconvert_exporter": "python",
   "pygments_lexer": "ipython3",
   "version": "3.12.0"
  }
 },
 "nbformat": 4,
 "nbformat_minor": 2
}
