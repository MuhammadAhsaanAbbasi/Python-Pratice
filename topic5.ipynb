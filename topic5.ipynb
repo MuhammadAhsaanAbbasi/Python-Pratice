{
 "cells": [
  {
   "cell_type": "markdown",
   "metadata": {},
   "source": [
    "# If Else Statement"
   ]
  },
  {
   "cell_type": "code",
   "execution_count": 2,
   "metadata": {},
   "outputs": [
    {
     "name": "stdout",
     "output_type": "stream",
     "text": [
      "Audi\n",
      "BMW\n",
      "Subaru\n",
      "Toyota\n"
     ]
    }
   ],
   "source": [
    "cars = ['audi', 'bmw', 'subaru', 'toyota']\n",
    "\n",
    "for car in cars:\n",
    "    if car==\"bmw\":\n",
    "        print(car.upper())\n",
    "    else:\n",
    "        print(car.title())"
   ]
  },
  {
   "cell_type": "markdown",
   "metadata": {},
   "source": [
    "# Comprehensive List of if-else Statement\n",
    "\n",
    "    '''\n",
    "    true_block if (logic) else false_block\n",
    "    '''"
   ]
  },
  {
   "cell_type": "code",
   "execution_count": 10,
   "metadata": {},
   "outputs": [
    {
     "name": "stdout",
     "output_type": "stream",
     "text": [
      "Hijabie\n"
     ]
    }
   ],
   "source": [
    "[i.upper() if i==\"bmw\" else i.title() for i in cars]\n",
    "\n",
    "if False:\n",
    "    print(\"True Block\")\n",
    "elif False:\n",
    "    print(\"Elif Code 1\")\n",
    "elif True:\n",
    "    print(\"Hijabie\")\n",
    "else:\n",
    "    print(\"Else block\")"
   ]
  },
  {
   "cell_type": "code",
   "execution_count": 3,
   "metadata": {},
   "outputs": [
    {
     "name": "stdout",
     "output_type": "stream",
     "text": [
      "Dear Student your Percentage is 80.0 now your calculated grade is: \tA+\n"
     ]
    }
   ],
   "source": [
    "# Grade System \n",
    "from typing import Union\n",
    "per: Union[int,float]=float(input(\"Enter your Percentage\"))\n",
    "grade:Union[str,None]=None\n",
    "\n",
    "if per>=80:\n",
    "    grade=\"A+\"\n",
    "elif per>=70:\n",
    "    grade=\"A\"\n",
    "elif per>=60:\n",
    "    grade=\"B\"\n",
    "elif per>=50:\n",
    "    grade=\"C\"\n",
    "elif per>=40:\n",
    "    grade=\"D\"\n",
    "elif per>=33:\n",
    "    grade=\"PASSED!\"\n",
    "else:\n",
    "    print(\"Failed!!\")\n",
    "\n",
    "print(f\"Dear Student your Percentage is {per} now your calculated grade is: \\t{grade}\")"
   ]
  },
  {
   "cell_type": "code",
   "execution_count": 1,
   "metadata": {},
   "outputs": [
    {
     "name": "stdout",
     "output_type": "stream",
     "text": [
      "Add Mushrooms on pizza\n",
      "Welcome to PIAIC\n"
     ]
    }
   ],
   "source": [
    "# in, not in if-else Statement \n",
    "\n",
    "requested_topping:list[str]=[\"Mushrooms\",\"Onions\",\"Cheese\"]\n",
    "\n",
    "if \"Mushrooms\" in requested_topping:\n",
    "    print(\"Add Mushrooms on pizza\")\n",
    "\n",
    "\"chicken\" not in requested_topping\n",
    "\n",
    "banned_students : list[str] = [\"Salman\",\"Bilal Jatoi\",\"Hira\"]\n",
    "user:str=input(\"Enter Your User Id\")\n",
    "\n",
    "if user not in banned_students:\n",
    "    print(\"Welcome to PIAIC\")\n",
    "\n"
   ]
  },
  {
   "cell_type": "code",
   "execution_count": 3,
   "metadata": {},
   "outputs": [
    {
     "name": "stdout",
     "output_type": "stream",
     "text": [
      "Add Mushrooms on pizza\n",
      "Add Cheese on pizza\n"
     ]
    }
   ],
   "source": [
    "requested_topping:list[str]=[\"Mushrooms\",\"Onions\",\"Cheese\"]\n",
    "\n",
    "if \"Mushrooms\" in requested_topping:\n",
    "    print(\"Add Mushrooms on pizza\")\n",
    "elif \"Pepporani\" in requested_topping:\n",
    "    print(\"Add Pepporani on pizza\")\n",
    "if \"Cheese\" in requested_topping:\n",
    "    print(\"Add Cheese on pizza\")"
   ]
  }
 ],
 "metadata": {
  "kernelspec": {
   "display_name": "python12",
   "language": "python",
   "name": "python3"
  },
  "language_info": {
   "codemirror_mode": {
    "name": "ipython",
    "version": 3
   },
   "file_extension": ".py",
   "mimetype": "text/x-python",
   "name": "python",
   "nbconvert_exporter": "python",
   "pygments_lexer": "ipython3",
   "version": "3.12.0"
  }
 },
 "nbformat": 4,
 "nbformat_minor": 2
}
