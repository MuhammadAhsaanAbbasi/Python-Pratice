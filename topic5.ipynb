{
 "cells": [
  {
   "cell_type": "markdown",
   "metadata": {},
   "source": [
    "# If Else Statement"
   ]
  },
  {
   "cell_type": "code",
   "execution_count": 2,
   "metadata": {},
   "outputs": [
    {
     "name": "stdout",
     "output_type": "stream",
     "text": [
      "Audi\n",
      "BMW\n",
      "Subaru\n",
      "Toyota\n"
     ]
    }
   ],
   "source": [
    "cars = ['audi', 'bmw', 'subaru', 'toyota']\n",
    "\n",
    "for car in cars:\n",
    "    if car==\"bmw\":\n",
    "        print(car.upper())\n",
    "    else:\n",
    "        print(car.title())"
   ]
  },
  {
   "cell_type": "markdown",
   "metadata": {},
   "source": [
    "# Comprehensive List of if-else Statement\n",
    "\n",
    "    '''\n",
    "    true_block if (logic) else false_block\n",
    "    '''"
   ]
  },
  {
   "cell_type": "code",
   "execution_count": 10,
   "metadata": {},
   "outputs": [
    {
     "name": "stdout",
     "output_type": "stream",
     "text": [
      "Hijabie\n"
     ]
    }
   ],
   "source": [
    "[i.upper() if i==\"bmw\" else i.title() for i in cars]\n",
    "\n",
    "if False:\n",
    "    print(\"True Block\")\n",
    "elif False:\n",
    "    print(\"Elif Code 1\")\n",
    "elif True:\n",
    "    print(\"Hijabie\")\n",
    "else:\n",
    "    print(\"Else block\")"
   ]
  },
  {
   "cell_type": "code",
   "execution_count": 3,
   "metadata": {},
   "outputs": [
    {
     "name": "stdout",
     "output_type": "stream",
     "text": [
      "Dear Student your Percentage is 80.0 now your calculated grade is: \tA+\n"
     ]
    }
   ],
   "source": [
    "# Grade System \n",
    "from typing import Union\n",
    "per: Union[int,float]=float(input(\"Enter your Percentage\"))\n",
    "grade:Union[str,None]=None\n",
    "\n",
    "if per>=80:\n",
    "    grade=\"A+\"\n",
    "elif per>=70:\n",
    "    grade=\"A\"\n",
    "elif per>=60:\n",
    "    grade=\"B\"\n",
    "elif per>=50:\n",
    "    grade=\"C\"\n",
    "elif per>=40:\n",
    "    grade=\"D\"\n",
    "elif per>=33:\n",
    "    grade=\"PASSED!\"\n",
    "else:\n",
    "    print(\"Failed!!\")\n",
    "\n",
    "print(f\"Dear Student your Percentage is {per} now your calculated grade is: \\t{grade}\")"
   ]
  },
  {
   "cell_type": "code",
   "execution_count": 1,
   "metadata": {},
   "outputs": [
    {
     "name": "stdout",
     "output_type": "stream",
     "text": [
      "Add Mushrooms on pizza\n",
      "Welcome to PIAIC\n"
     ]
    }
   ],
   "source": [
    "# in, not in if-else Statement \n",
    "\n",
    "requested_topping:list[str]=[\"Mushrooms\",\"Onions\",\"Cheese\"]\n",
    "\n",
    "if \"Mushrooms\" in requested_topping:\n",
    "    print(\"Add Mushrooms on pizza\")\n",
    "\n",
    "\"chicken\" not in requested_topping\n",
    "\n",
    "banned_students : list[str] = [\"Salman\",\"Bilal Jatoi\",\"Hira\"]\n",
    "user:str=input(\"Enter Your User Id\")\n",
    "\n",
    "if user not in banned_students:\n",
    "    print(\"Welcome to PIAIC\")\n",
    "\n"
   ]
  },
  {
   "cell_type": "code",
   "execution_count": 2,
   "metadata": {},
   "outputs": [
    {
     "name": "stdout",
     "output_type": "stream",
     "text": [
      "Add Mushrooms on pizza\n",
      "Add Cheese on pizza\n"
     ]
    }
   ],
   "source": [
    "requested_topping:list[str]=[\"Mushrooms\",\"Onions\",\"Cheese\"]\n",
    "\n",
    "if \"Mushrooms\" in requested_topping:\n",
    "    print(\"Add Mushrooms on pizza\")\n",
    "elif \"Pepporani\" in requested_topping:\n",
    "    print(\"Add Pepporani on pizza\")\n",
    "if \"Cheese\" in requested_topping:\n",
    "    print(\"Add Cheese on pizza\")"
   ]
  },
  {
   "cell_type": "code",
   "execution_count": 4,
   "metadata": {},
   "outputs": [
    {
     "name": "stdout",
     "output_type": "stream",
     "text": [
      "Are You to make a plain pizza\n"
     ]
    }
   ],
   "source": [
    "requested_toppings = []\n",
    "if requested_toppings:\n",
    "    for requested_topping in requested_toppings:\n",
    "        print(f'Adding {requested_topping}.')\n",
    "    print(\"\\nFinished making your pizza!\")\n",
    "else:\n",
    "        print(\"Are You to make a plain pizza\")"
   ]
  },
  {
   "cell_type": "code",
   "execution_count": 6,
   "metadata": {},
   "outputs": [
    {
     "name": "stdout",
     "output_type": "stream",
     "text": [
      "Adding: ['mushrooms', 'frenc\"h fries', 'extra cheese']\n",
      "Sorry Sir we don't have these toppings\n",
      "Adding: ['mushrooms', 'frenc\"h fries', 'extra cheese']\n",
      "\n",
      "Making your pizza\n"
     ]
    }
   ],
   "source": [
    "available_toppings = ['mushrooms', 'olives', 'green peppers',\n",
    "'pepperoni', 'pineapple', 'extra cheese']\n",
    "requested_toppings = ['mushrooms', 'frenc\"h fries', 'extra cheese']\n",
    "for requested_topping in requested_toppings:\n",
    "    if requested_topping in available_toppings:\n",
    "        print(f\"Adding: {requested_toppings}\")\n",
    "    else:\n",
    "        print(\"Sorry Sir we don't have these toppings\")\n",
    "\n",
    "print(\"\\nMaking your pizza\")"
   ]
  },
  {
   "cell_type": "code",
   "execution_count": 17,
   "metadata": {},
   "outputs": [
    {
     "name": "stdout",
     "output_type": "stream",
     "text": [
      "Is car == 'civic'? I predict True.\n",
      "True\n",
      "\n",
      "Is car == 'audi'? I predict False.\n",
      "False\n",
      "\n",
      "Is car.len() == 5? I predict False.\n",
      "True\n",
      "\n",
      "Is car.upper() == car? I predict False.\n",
      "False\n",
      "\n",
      "Is car.lower() == car? I predict False.\n",
      "True\n",
      "\n",
      "Is car.title() == car? I predict False.\n",
      "False\n",
      "\n",
      "Is car != 'audi'? I predict False.\n",
      "True\n",
      "\n",
      "Is car.len() < 5 car? I predict False.\n",
      "False\n",
      "\n",
      "Is car.len() > 5 car? I predict False.\n",
      "False\n",
      "\n",
      "Is car.len() < 5 car? I predict False.\n",
      "True\n"
     ]
    }
   ],
   "source": [
    "# Exercise 5.1\n",
    "car=\"civic\"\n",
    "print(\"Is car == 'civic'? I predict True.\")\n",
    "print(car == 'civic')\n",
    "print(\"\\nIs car == 'audi'? I predict False.\")\n",
    "print(car == 'audi')\n",
    "print(\"\\nIs car.len() == 5? I predict True.\")\n",
    "print(car.__len__() == 5)\n",
    "print(\"\\nIs car.upper() == car? I predict False.\")\n",
    "print(car.upper() == car)\n",
    "print(\"\\nIs car.lower() == car? I predict True.\")\n",
    "print(car.lower() == car)\n",
    "print(\"\\nIs car.title() == car? I predict False.\")\n",
    "print(car.title() == car)\n",
    "print(\"\\nIs car != 'audi'? I predict True.\")\n",
    "print(car != 'audi')\n",
    "print(\"\\nIs car.len() < 5 car? I predict False.\")\n",
    "print(car.__len__() < 5)\n",
    "print(\"\\nIs car.len() > 5 car? I predict False.\")\n",
    "print(car.__len__() > 5)\n",
    "print(\"\\nIs car.len() < 5 car? I predict True.\")\n",
    "print(car.startswith(\"civ\"))\n"
   ]
  },
  {
   "cell_type": "code",
   "execution_count": 14,
   "metadata": {},
   "outputs": [
    {
     "name": "stdout",
     "output_type": "stream",
     "text": [
      "Is car == 'Mercdes'? I predict True.\n",
      "True\n",
      "\n",
      "Is car != 'mercdes'? I predict False.\n",
      "False\n",
      "\n",
      "Is car.lower() == 5? I predict True.\n",
      "True\n",
      "\n",
      "Is num == 5? I predict True.\n",
      "True\n",
      "\n",
      "Is num != 5? I predict False.\n",
      "False\n",
      "\n",
      "Is num >= 5? I predict True.\n",
      "False\n",
      "\n",
      "Is num != 5? I predict False.\n",
      "True\n",
      "\n",
      "Is num == 5? I predict True.\n",
      "True\n",
      "\n",
      "Is num != 5? I predict False.\n",
      "False\n",
      "\n",
      "Incorrect Email or Password\n",
      "\n",
      "Please Serve it\n",
      "Hijabie\n",
      "Fajar\n",
      "Rawa\n",
      "Arbaz\n",
      "Arbaz\n",
      "Arbaz\n",
      "Arbaz\n",
      "Arbaz\n"
     ]
    }
   ],
   "source": [
    "# 5-2. More Conditional Tests: You don’t have to limit the number of tests you \n",
    "# create to 10. If you want to try more comparisons, write more tests and add \n",
    "# them to conditional_tests.py. Have at least one True and one False result for \n",
    "# each of the following:\n",
    "# •\t Tests for equality and inequality with strings\n",
    "# •\t Tests using the lower() function\n",
    "# •\t Numerical tests involving equality and inequality, greater than and \n",
    "# less than, greater than or equal to, and less than or equal to\n",
    "# •\t Tests using the and keyword and the or keyword\n",
    "# •\t Test whether an item is in a list\n",
    "# •\t Test whether an item is not in a list\n",
    "\n",
    "car=\"Mercdes\"\n",
    "\n",
    "print(\"Is car == 'Mercdes'? I predict True.\")\n",
    "print(car == 'Mercdes')\n",
    "print(\"\\nIs car != 'mercdes'? I predict False.\")\n",
    "print(car != 'Mercdes')\n",
    "print(\"\\nIs car.lower() == 5? I predict True.\")\n",
    "print(car.title() == car)\n",
    "\n",
    "num=5\n",
    "print(\"\\nIs num == 5? I predict True.\")\n",
    "print(num == 5)\n",
    "print(\"\\nIs num != 5? I predict False.\")\n",
    "print(num != 5)\n",
    "print(\"\\nIs num >= 5? I predict True.\")\n",
    "print(num >= 8)\n",
    "print(\"\\nIs num != 5? I predict False.\")\n",
    "print(num <= 6)\n",
    "print(\"\\nIs num == 5? I predict True.\")\n",
    "print(num < 6)\n",
    "print(\"\\nIs num != 5? I predict False.\")\n",
    "print(num > 5)\n",
    "\n",
    "email: str = \"hijabie@gmail.com\"\n",
    "password: str = \"hijabie123\"\n",
    "\n",
    "if email==\"hijab@gmail.com\" and password==\"hijabie123\":\n",
    "    print(\"\\nLogin Successfully!\")\n",
    "else:\n",
    "    print(\"\\nIncorrect Email or Password\")\n",
    "    \n",
    "food1: str = \"biryani\"\n",
    "food2: str = \"shawarma\"\n",
    "\n",
    "if food1==\"biryani\" or food2==\"mutton biryani\":\n",
    "    print(\"\\nPlease Serve it\")\n",
    "else:\n",
    "    print(\"\\nNot Serve it\")\n",
    "\n",
    "family: list[str] = [\"Hijabie\",\"Fajar\",\"Rawa\",\"Arbaz\"]\n",
    "\n",
    "for hijabe in family:\n",
    "    if \"Mujeeb\" in hijabe:\n",
    "        print(hijabe[3])\n",
    "    else:\n",
    "        print(hijabe)\n",
    "        \n",
    "for hijabe in family:\n",
    "    if \"Mujeeb\" not in hijabe:\n",
    "        print(family[3])\n",
    "    else:\n",
    "        print(hijabe)"
   ]
  }
 ],
 "metadata": {
  "kernelspec": {
   "display_name": "python12",
   "language": "python",
   "name": "python3"
  },
  "language_info": {
   "codemirror_mode": {
    "name": "ipython",
    "version": 3
   },
   "file_extension": ".py",
   "mimetype": "text/x-python",
   "name": "python",
   "nbconvert_exporter": "python",
   "pygments_lexer": "ipython3",
   "version": "3.12.0"
  }
 },
 "nbformat": 4,
 "nbformat_minor": 2
}
