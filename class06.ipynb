{
 "cells": [
  {
   "cell_type": "code",
   "execution_count": 25,
   "metadata": {},
   "outputs": [
    {
     "name": "stdout",
     "output_type": "stream",
     "text": [
      "NA\n",
      "20\n",
      "3\n",
      "Hijab Rabail Khan\n",
      "name\n",
      "fName\n",
      "Education\n",
      "Age\n",
      "abc\n",
      "Hijab Rabail Khan\n",
      "Muhammad Arshad\n",
      "Bachelors in Applied Physics\n",
      "20\n",
      "{'a': 'b', 'b': 3}\n",
      "name Hijab Rabail Khan\n",
      "fName Muhammad Arshad\n",
      "Education Bachelors in Applied Physics\n",
      "Age 20\n",
      "abc {'a': 'b', 'b': 3}\n"
     ]
    }
   ],
   "source": [
    "from typing import Dict,Union,Optional\n",
    "\n",
    "key = Union[str,int,list]\n",
    "value = Union[str,int,dict,list,tuple,set]\n",
    "\n",
    "data: Dict[key,value] = {\n",
    "                    \"name\":\"Hijab Rabail Khan\",\n",
    "                    \"fName\":\"Muhammad Arshad\",\n",
    "                    \"Education\":\"Bachelors in Applied Physics\",\n",
    "                    \"Age\":19,\n",
    "                    \"tnd\":\"Pakistan\",\n",
    "                    \"abc\": {\"a\":\"b\",\"b\":3}\n",
    "                    }\n",
    "\n",
    "data[\"Age\"] = 20\n",
    "print(data.get(\"Pakistan\",\"NA\"))\n",
    "print(data['Age'])\n",
    "print(data[\"abc\"][\"b\"])\n",
    "del data[\"tnd\"]\n",
    "print(data[\"name\"])\n",
    "\n",
    "for k in data.keys():\n",
    "    print(k)\n",
    "    \n",
    "for v in data.values():\n",
    "    print(v)\n",
    "    \n",
    "for k,v in data.items():\n",
    "    print(k,v)"
   ]
  },
  {
   "cell_type": "code",
   "execution_count": 29,
   "metadata": {},
   "outputs": [
    {
     "name": "stdout",
     "output_type": "stream",
     "text": [
      "{'name': 'Hijab Rabail Khan', 'fName': 'Muhammad Arshad', 'Education': 'Bachelors in Applied Physics', 'Age': 19, 'tnd': 'Pakistan'}\n"
     ]
    }
   ],
   "source": [
    "from typing import Dict,Union,Optional\n",
    "\n",
    "key = Union[str,int,list]\n",
    "value = Union[str,int,dict,list,tuple,set]\n",
    "\n",
    "data: Dict[key,value] = {\n",
    "                    \"name\":\"Hijab Rabail Khan\",\n",
    "                    \"fName\":\"Muhammad Arshad\",\n",
    "                    \"Education\":\"Bachelors in Applied Physics\",\n",
    "                    \"Age\":19,\n",
    "                    \"tnd\":\"Pakistan\",\n",
    "                    \"abc\": {\"a\":\"b\",\"b\":3}\n",
    "                    }\n",
    "\n",
    "data.pop(\"abc\")\n",
    "\n",
    "print(data)"
   ]
  },
  {
   "cell_type": "code",
   "execution_count": 30,
   "metadata": {},
   "outputs": [
    {
     "name": "stdout",
     "output_type": "stream",
     "text": [
      "{'name': 'Hijab Rabail Khan', 'fName': 'Muhammad Arshad', 'Education': 'Bachelors in Applied Physics', 'Age': 19, 'tnd': 'Pakistan'}\n"
     ]
    }
   ],
   "source": [
    "from typing import Dict,Union,Optional\n",
    "\n",
    "key = Union[str,int,list]\n",
    "value = Union[str,int,dict,list,tuple,set]\n",
    "\n",
    "data: Dict[key,value] = {\n",
    "                    \"name\":\"Hijab Rabail Khan\",\n",
    "                    \"fName\":\"Muhammad Arshad\",\n",
    "                    \"Education\":\"Bachelors in Applied Physics\",\n",
    "                    \"Age\":19,\n",
    "                    \"tnd\":\"Pakistan\",\n",
    "                    \"abc\": {\"a\":\"b\",\"b\":3}\n",
    "                    }\n",
    "\n",
    "data.popitem()\n",
    "\n",
    "print(data)"
   ]
  },
  {
   "cell_type": "code",
   "execution_count": 32,
   "metadata": {},
   "outputs": [
    {
     "name": "stdout",
     "output_type": "stream",
     "text": [
      "Pakistani\n"
     ]
    }
   ],
   "source": [
    "from typing import Dict,Union,Optional\n",
    "\n",
    "key = Union[str,int,list]\n",
    "value = Union[str,int,dict,list,tuple,set]\n",
    "\n",
    "data: Dict[key,value] = {\n",
    "                    \"name\":\"Hijab Rabail Khan\",\n",
    "                    \"fName\":\"Muhammad Arshad\",\n",
    "                    \"Education\":\"Bachelors in Applied Physics\",\n",
    "                    \"Age\":19,\n",
    "                    \"tnd\":\"Pakistan\",\n",
    "                    \"abc\": {\"a\":\"b\",\"b\":3}\n",
    "                    }\n",
    "\n",
    "data.setdefault(\"nationality\",\"Pakistani\")\n",
    "\n",
    "print(data.setdefault(\"nationality\",\"Pakistani\")) "
   ]
  },
  {
   "cell_type": "code",
   "execution_count": 33,
   "metadata": {},
   "outputs": [
    {
     "name": "stdout",
     "output_type": "stream",
     "text": [
      "{'name': 'Hijab Rabail Khan', 'fName': 'Muhammad Arshad', 'Education': 'Bachelors in Applied Physics', 'Age': 19, 'tnd': 'Pakistan', 'abc': {'a': 'b', 'b': 3}}\n",
      "{'name': 'Hijab Rabail Khan', 'fName': 'Muhammad Arshad', 'Education': 'Bachelors in Applied Physics', 'Age': 19, 'tnd': 'Pakistan', 'abc': {'a': 'b', 'b': 3}, 'Nationality': 'Pakistani', 'Sec Nationality': 'Turkey', 'City': 'Hyderabad'}\n"
     ]
    }
   ],
   "source": [
    "from typing import Dict,Union,Optional\n",
    "\n",
    "key = Union[str,int,list]\n",
    "value = Union[str,int,dict,list,tuple,set]\n",
    "\n",
    "data: Dict[key,value] = {\n",
    "                    \"name\":\"Hijab Rabail Khan\",\n",
    "                    \"fName\":\"Muhammad Arshad\",\n",
    "                    \"Education\":\"Bachelors in Applied Physics\",\n",
    "                    \"Age\":19,\n",
    "                    \"tnd\":\"Pakistan\",\n",
    "                    \"abc\": {\"a\":\"b\",\"b\":3}\n",
    "                    }\n",
    "\n",
    "\n",
    "data1: Dict[key ,value] = {\n",
    "                        \"Nationality\":\"Pakistani\",\n",
    "                        \"Sec Nationality\": \"Turkey\",\n",
    "                        \"City\":\"Hyderabad\"\n",
    "}\n",
    "\n",
    "print(data)\n",
    "\n",
    "data.update(data1)\n",
    "\n",
    "print(data)"
   ]
  },
  {
   "cell_type": "code",
   "execution_count": null,
   "metadata": {},
   "outputs": [],
   "source": []
  },
  {
   "cell_type": "code",
   "execution_count": 40,
   "metadata": {},
   "outputs": [
    {
     "name": "stdout",
     "output_type": "stream",
     "text": [
      "{'name': 'Hijabie', 'fName': None, 'age': None, 'id': None}\n"
     ]
    }
   ],
   "source": [
    "keys: list[str] = {\"id\",\"name\",\"fName\",\"age\"}\n",
    "\n",
    "datas: Dict[key , value] = {}\n",
    "\n",
    "datas[\"name\"]=\"Hijabie\"\n",
    "datas=datas.fromkeys(keys)\n",
    "\n",
    "print(datas)"
   ]
  },
  {
   "cell_type": "code",
   "execution_count": 54,
   "metadata": {},
   "outputs": [
    {
     "name": "stdout",
     "output_type": "stream",
     "text": [
      "Hijabie\n",
      "Rabail Khan\n",
      "20\n",
      "Hyderabad\n",
      "Hijabie favourite number is 6\n",
      "Abbasi favourite number is 5\n",
      "zyab favourite number is 20\n",
      "muqqadas favourite number is 8\n",
      "hijabie favourite number is 6\n",
      "abbasi favourite number is 5\n",
      "zyab favourite number is 20\n",
      "muqqadas favourite number is 8\n",
      "goncha favourite number is 4\n"
     ]
    }
   ],
   "source": [
    "# Exercise 6.1\n",
    "#  Use a dictionary to store information about a person you know.\n",
    "# Store their first name, last name, age, and the city in which they live. You \n",
    "# should have keys such as first_name, last_name, age, and city. Print each \n",
    "# piece of information stored in your dictionary.\n",
    "\n",
    "values = Union[str,int]\n",
    "person: Dict[str,values] = {\n",
    "                            \"first_name\":\"Hijabie\",\n",
    "                            \"last_name\":\"Rabail Khan\",\n",
    "                            \"Age\":20,\n",
    "                            \"City\":\"Hyderabad\"\n",
    "}\n",
    "\n",
    "print(person[\"first_name\"])\n",
    "print(person[\"last_name\"])\n",
    "print(person[\"Age\"])\n",
    "print(person[\"City\"])\n",
    "\n",
    "# Exercise 6.2\n",
    "values = Union[str,int]\n",
    "friends: Dict[str,values] = {\n",
    "                            \"hijabie\":6,\n",
    "                            \"abbasi\":5,\n",
    "                            \"zyab\":20,\n",
    "                            \"muqqadas\":8\n",
    "}\n",
    "\n",
    "# print(person)\n",
    "print(f\"Hijabie favourite number is {friends[\"hijabie\"]}\")\n",
    "print(f\"Abbasi favourite number is {friends[\"abbasi\"]}\")\n",
    "print(f\"zyab favourite number is {friends[\"zyab\"]}\")\n",
    "print(f\"muqqadas favourite number is {friends[\"muqqadas\"]}\")\n",
    "\n",
    "new_name: str = input(\"Enter Your Name\")\n",
    "new_number: int = int(input(\"Enter your favourite number\"))\n",
    "friends[new_name]= new_number\n",
    "\n",
    "for name , number in friends.items():\n",
    "    print(f\"{name} favourite number is {number}\")"
   ]
  },
  {
   "cell_type": "code",
   "execution_count": 5,
   "metadata": {},
   "outputs": [
    {
     "name": "stdout",
     "output_type": "stream",
     "text": [
      "\n",
      "A Variable has meaning full A named container that holds a value in computer memory.\n",
      "\n",
      "A Function has meaning full A reusable block of code that performs a specific task.\n",
      "\n",
      "A List has meaning full An ordered collection of elements that can contain various data types.\n",
      "\n",
      "A Conditional Statement has meaning full A construct that allows you to make decisions in your code based on conditions.\n",
      "\n",
      "A Loop has meaning full A control structure for repeatedly executing a block of code.\n",
      "\n",
      "============================================\n",
      "\n",
      "A Variable has meaning full A named container that holds a value in computer memory.\n",
      "\n",
      "A Function has meaning full A reusable block of code that performs a specific task.\n",
      "\n",
      "A List has meaning full An ordered collection of elements that can contain various data types.\n",
      "\n",
      "A Conditional Statement has meaning full A construct that allows you to make decisions in your code based on conditions.\n",
      "\n",
      "A Loop has meaning full A control structure for repeatedly executing a block of code.\n",
      "\n",
      "A Class has meaning full A blueprint for creating objects in object-oriented programming.\n",
      "\n",
      "A Method has meaning full A function that is associated with an object and can operate on its data.\n",
      "\n",
      "A Module has meaning full A Python script that contains reusable code and definitions.\n",
      "\n",
      "A Exception has meaning full An error that occurs during the execution of a program and can be handled using try and except blocks.\n",
      "\n",
      "A Dictionary has meaning full A collection of key-value pairs that allows you to store and retrieve data using keys.\n"
     ]
    }
   ],
   "source": [
    "# Exercise 6-3. \n",
    "\n",
    "glossary = {\n",
    "    \"Variable\": \"A named container that holds a value in computer memory.\",\n",
    "    \"Function\": \"A reusable block of code that performs a specific task.\",\n",
    "    \"List\": \"An ordered collection of elements that can contain various data types.\",\n",
    "    \"Conditional Statement\": \"A construct that allows you to make decisions in your code based on conditions.\",\n",
    "    \"Loop\": \"A control structure for repeatedly executing a block of code.\",\n",
    "}\n",
    "for w , m in glossary.items():\n",
    "    print(f\"\\nA {w} has meaning full {m}\")\n",
    "print(\"\\n============================================\")\n",
    "#Exercise 6.4\n",
    "glossary = {\n",
    "    \"Variable\": \"A named container that holds a value in computer memory.\",\n",
    "    \"Function\": \"A reusable block of code that performs a specific task.\",\n",
    "    \"List\": \"An ordered collection of elements that can contain various data types.\",\n",
    "    \"Conditional Statement\": \"A construct that allows you to make decisions in your code based on conditions.\",\n",
    "    \"Loop\": \"A control structure for repeatedly executing a block of code.\",\n",
    "}\n",
    "glossary[\"Class\"] = \"A blueprint for creating objects in object-oriented programming.\"\n",
    "glossary[\"Method\"] = \"A function that is associated with an object and can operate on its data.\"\n",
    "glossary[\"Module\"] = \"A Python script that contains reusable code and definitions.\"\n",
    "glossary[\"Exception\"]= \"An error that occurs during the execution of a program and can be handled using try and except blocks.\"\n",
    "glossary[\"Dictionary\"] = \"A collection of key-value pairs that allows you to store and retrieve data using keys.\"\n",
    "\n",
    "for w , m in glossary.items():\n",
    "    print(f\"\\nA {w} has meaning full {m}\")"
   ]
  },
  {
   "cell_type": "code",
   "execution_count": 16,
   "metadata": {},
   "outputs": [
    {
     "name": "stdout",
     "output_type": "stream",
     "text": [
      "\n",
      "The Egypt runs through Nile\n",
      "\n",
      "The Pakistan runs through Jehlum\n",
      "\n",
      "The Sindh runs through Chenab\n",
      "\n",
      "Egypt\n",
      "\n",
      "Pakistan\n",
      "\n",
      "Sindh\n",
      "\n",
      "Nile\n",
      "\n",
      "Jehlum\n",
      "\n",
      "Chenab\n",
      "Jen\n",
      "Sarah\n",
      "\n",
      "Hi sarah I see your favourite language is c\n",
      "\n",
      "Edward\n",
      "Phil\n",
      "\n",
      "Hi phil I see your favourite language is java\n",
      "\n",
      "\n",
      "Hijabie Please take our poll\n"
     ]
    }
   ],
   "source": [
    "#Exercise 6.5\n",
    "rivers: dict[str,str] = {\n",
    "                        \"Egypt\":\"Nile\",\n",
    "                        \"Pakistan\":\"Jehlum\",\n",
    "                        \"Sindh\":\"Chenab\",\n",
    "}\n",
    "\n",
    "for r,c in rivers.items():\n",
    "    print(f\"\\nThe {r} runs through {c}\")\n",
    "    \n",
    "for r in rivers.keys():\n",
    "    print(f\"\\n{r}\")\n",
    "for c in rivers.values():\n",
    "    print(f\"\\n{c}\")\n",
    "\n",
    "# Exercise 6.6\n",
    "favorite_languages = {\n",
    "'jen': 'python',\n",
    "'sarah': 'c',\n",
    "'edward': 'ruby',\n",
    "'phil': 'java',\n",
    "}\n",
    "friends = ['phil', 'sarah']\n",
    "for name in favorite_languages.keys():\n",
    "    print(name.title())\n",
    "    if name in friends:\n",
    "        print(f\"\\nHi {name} I see your favourite language is {favorite_languages[name]}\\n\")\n",
    "if \"hijabie\" not in favorite_languages.keys():\n",
    "    print(\"\\nHijabie Please take our poll\")"
   ]
  },
  {
   "cell_type": "code",
   "execution_count": 23,
   "metadata": {},
   "outputs": [
    {
     "name": "stdout",
     "output_type": "stream",
     "text": [
      "{'first_name': 'Hijabie', 'last_name': 'Rabail Khan', 'Age': 20, 'City': 'Hyderabad'}\n",
      "{'first_name': 'Fajar', 'last_name': 'Rabail Khan', 'Age': 23, 'City': 'Hyderabad'}\n",
      "{'first_name': 'Rawa', 'last_name': 'Rabail Khan', 'Age': 26, 'City': 'Hyderabad'}\n"
     ]
    }
   ],
   "source": [
    "# Exercise 6.7\n",
    "from typing import Union, Dict\n",
    "values = Union[str,int]\n",
    "person: Dict[str,values] = {\n",
    "                            \"first_name\":\"Hijabie\",\n",
    "                            \"last_name\":\"Rabail Khan\",\n",
    "                            \"Age\":20,\n",
    "                            \"City\":\"Hyderabad\"\n",
    "}\n",
    "\n",
    "person1: Dict[str,values] = {\n",
    "                            \"first_name\":\"Fajar\",\n",
    "                            \"last_name\":\"Rabail Khan\",\n",
    "                            \"Age\":23,\n",
    "                            \"City\":\"Hyderabad\"\n",
    "}\n",
    "person2: Dict[str,values] = {\n",
    "                            \"first_name\":\"Rawa\",\n",
    "                            \"last_name\":\"Rabail Khan\",\n",
    "                            \"Age\":26,\n",
    "                            \"City\":\"Hyderabad\"\n",
    "}\n",
    "\n",
    "peoples = [person,person1,person2]\n",
    "\n",
    "for people in peoples:\n",
    "    print(people)"
   ]
  },
  {
   "cell_type": "code",
   "execution_count": 24,
   "metadata": {},
   "outputs": [
    {
     "name": "stdout",
     "output_type": "stream",
     "text": [
      "{'pet_name': 'cat', 'owner_name': 'Fajar'}\n",
      "{'pet_name': 'Parrot', 'owner_name': 'Hijabie'}\n",
      "{'pet_name': 'Puppy', 'owner_name': 'Rawa'}\n"
     ]
    }
   ],
   "source": [
    "# Exercise 6.8\n",
    "from typing import Union, Dict\n",
    "values = Union[str,int]\n",
    "pet: Dict[str,values] = {\n",
    "                            \"pet_name\":\"cat\",\n",
    "                            \"owner_name\":\"Fajar\",\n",
    "}\n",
    "pet1: Dict[str,values] = {\n",
    "                            \"pet_name\":\"Parrot\",\n",
    "                            \"owner_name\":\"Hijabie\",\n",
    "}\n",
    "pet2: Dict[str,values] = {\n",
    "                            \"pet_name\":\"Puppy\",\n",
    "                            \"owner_name\":\"Rawa\",\n",
    "}\n",
    "pets = [pet,pet1,pet2]\n",
    "\n",
    "for pet in pets:\n",
    "    print(pet)"
   ]
  },
  {
   "cell_type": "code",
   "execution_count": 28,
   "metadata": {},
   "outputs": [
    {
     "name": "stdout",
     "output_type": "stream",
     "text": [
      "Hiabie favourite places is ['Hyderabad', 'Istanbul', 'Ankara']\n",
      "Abbasi favourite places is ['Karachi', 'Madina', 'Mecca']\n",
      "Rawa favourite places is ['Hyderabad', 'Mecca', 'chicago']\n",
      "Mujeeb favourite places is ['Abbotabad', 'Toronto', 'san fransico']\n",
      "Okasaha favourite places is ['Islamabad', 'Attock', 'Mansera']\n",
      "Fajar favourite places is ['Hyderabad', 'Mecca', 'Istanbul']\n"
     ]
    }
   ],
   "source": [
    "# Make a dictionary called favorite_places. Think of three \n",
    "# names to use as keys in the dictionary, and store one to three favorite places \n",
    "# for each person. To make this exercise a bit more interesting, ask some friends \n",
    "# to name a few of their favorite places. Loop through the dictionary, and print \n",
    "# each person’s name and their favorite places.\n",
    "from typing import Union, Dict\n",
    "values = Union[str,int,list,Dict,set]\n",
    "favourite_places: dict[str,values] = {\n",
    "                                    \"Hiabie\":[\"Hyderabad\",\"Istanbul\",\"Ankara\"],\n",
    "                                    \"Abbasi\":[\"Karachi\",\"Madina\",\"Mecca\"],\n",
    "                                    \"Rawa\":[\"Hyderabad\",\"Mecca\",\"chicago\"],\n",
    "}\n",
    "\n",
    "new_places: dict[str,values] = {\n",
    "                                    \"Mujeeb\":[\"Abbotabad\",\"Toronto\",\"san fransico\"],\n",
    "                                    \"Okasaha\":[\"Islamabad\",\"Attock\",\"Mansera\"],\n",
    "                                    \"Fajar\":[\"Hyderabad\",\"Mecca\",\"Istanbul\"],\n",
    "}\n",
    "\n",
    "favourite_places.update(new_places)\n",
    "\n",
    "for name, places in favourite_places.items(): \n",
    "    print(f\"{name} favourite places is {places}\")"
   ]
  },
  {
   "cell_type": "code",
   "execution_count": 39,
   "metadata": {},
   "outputs": [
    {
     "name": "stdout",
     "output_type": "stream",
     "text": [
      "hijabie favourite number is [6, 5]\n",
      "abbasi favourite number is [5, 8]\n",
      "zyab favourite number is [20, 3]\n",
      "muqqadas favourite number is [8, 10]\n"
     ]
    }
   ],
   "source": [
    "values = Union[str,int]\n",
    "friends: Dict[str,values] = {\n",
    "                            \"hijabie\":[6,5],\n",
    "                            \"abbasi\":[5,8],\n",
    "                            \"zyab\":[20,3],\n",
    "                            \"muqqadas\":[8,10]\n",
    "}\n",
    "# print(person)\n",
    "for name, numbers in friends.items():\n",
    "    if len(numbers)>1:\n",
    "        print(f\"{name} favourite number is {numbers}\")"
   ]
  },
  {
   "cell_type": "code",
   "execution_count": 41,
   "metadata": {},
   "outputs": [
    {
     "name": "stdout",
     "output_type": "stream",
     "text": [
      "\n",
      "Karachi:\n",
      "Country: Pakistan\n",
      "Population: 20 Million\n",
      "Fact: Karachi is a City of light\n",
      "\n",
      "Mecca:\n",
      "Country: SaudiArabia\n",
      "Population: 40 Million\n",
      "Fact: Mecca is a Holy City\n",
      "\n",
      "Istanbul:\n",
      "Country: Turkey\n",
      "Population: 30 Million\n",
      "Fact: Turkey is a very beautiful City\n"
     ]
    }
   ],
   "source": [
    "#Exercise 6.11 \n",
    "from typing import Union, Dict\n",
    "values = Union[str,int,Dict]\n",
    "cities: Dict[str,values] = {\n",
    "                            \"Karachi\":{\"Country\":\"Pakistan\",\"Population\":\"20 Million\", \"Fact\":\"Karachi is a City of light\"},\n",
    "                            \"Mecca\":{\"Country\":\"SaudiArabia\",\"Population\":\"40 Million\", \"Fact\":\"Mecca is a Holy City\"},\n",
    "                            \"Istanbul\":{\"Country\":\"Turkey\",\"Population\":\"30 Million\", \"Fact\":\"Turkey is a very beautiful City\"}\n",
    "}\n",
    "\n",
    "for city, info in cities.items():\n",
    "    print(f\"\\n{city}:\")\n",
    "    country=info['Country']\n",
    "    population=info['Population']\n",
    "    fact=info['Fact']\n",
    "    print(f\"Country: {country}\")\n",
    "    print(f\"Population: {population}\")\n",
    "    print(f\"Fact: {fact}\")"
   ]
  },
  {
   "cell_type": "code",
   "execution_count": 44,
   "metadata": {},
   "outputs": [
    {
     "name": "stdout",
     "output_type": "stream",
     "text": [
      "first_name: Rawa Rabail Khan\n",
      "Age: 26\n",
      "City: Hyderabad\n",
      "Education: BSCS\n"
     ]
    }
   ],
   "source": [
    "person2: Dict[str,values] = {\n",
    "                            \"first_name\":\"Rawa\",\n",
    "                            \"last_name\":\"Rabail Khan\",\n",
    "                            \"Age\":26,\n",
    "                            \"City\":\"Hyderabad\"\n",
    "}\n",
    "\n",
    "person2[\"first_name\"]=\"Rawa Rabail Khan\"\n",
    "del person2[\"last_name\"]\n",
    "person2[\"Education\"]=\"BSCS\"\n",
    "\n",
    "for k, v in person2.items():\n",
    "    print(f\"{k}: {v}\")"
   ]
  },
  {
   "cell_type": "code",
   "execution_count": 46,
   "metadata": {},
   "outputs": [
    {
     "name": "stdout",
     "output_type": "stream",
     "text": [
      "Name: Hijabie, Age: 20, Father Name:M.Arshad\n",
      "Name: Abbasi, Age: 19, Father Name:M.Israr\n",
      "Name: zyab, Age: 19, Father Name:M.Rizwan\n",
      "Name: asim, Age: 26, Father Name:M.Mubeen\n"
     ]
    }
   ],
   "source": [
    "names: list[str] = [\"Hijabie\",\"Abbasi\",\"zyab\",\"asim\"]\n",
    "age: list[int] = [20,19,19,26]\n",
    "fName: list[str] = [\"M.Arshad\",\"M.Israr\",\"M.Rizwan\",\"M.Mubeen\"]\n",
    "list(zip(names,age,fName))\n",
    "\n",
    "for name,ag,fn in zip(names,age,fName):\n",
    "    print(f\"Name: {name}, Age: {ag}, Father Name:{fn}\")"
   ]
  }
 ],
 "metadata": {
  "kernelspec": {
   "display_name": "python12",
   "language": "python",
   "name": "python3"
  },
  "language_info": {
   "codemirror_mode": {
    "name": "ipython",
    "version": 3
   },
   "file_extension": ".py",
   "mimetype": "text/x-python",
   "name": "python",
   "nbconvert_exporter": "python",
   "pygments_lexer": "ipython3",
   "version": "3.12.0"
  }
 },
 "nbformat": 4,
 "nbformat_minor": 2
}
