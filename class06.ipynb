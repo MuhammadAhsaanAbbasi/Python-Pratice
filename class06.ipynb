{
 "cells": [
  {
   "cell_type": "code",
   "execution_count": 25,
   "metadata": {},
   "outputs": [
    {
     "name": "stdout",
     "output_type": "stream",
     "text": [
      "NA\n",
      "20\n",
      "3\n",
      "Hijab Rabail Khan\n",
      "name\n",
      "fName\n",
      "Education\n",
      "Age\n",
      "abc\n",
      "Hijab Rabail Khan\n",
      "Muhammad Arshad\n",
      "Bachelors in Applied Physics\n",
      "20\n",
      "{'a': 'b', 'b': 3}\n",
      "name Hijab Rabail Khan\n",
      "fName Muhammad Arshad\n",
      "Education Bachelors in Applied Physics\n",
      "Age 20\n",
      "abc {'a': 'b', 'b': 3}\n"
     ]
    }
   ],
   "source": [
    "from typing import Dict,Union,Optional\n",
    "\n",
    "key = Union[str,int,list]\n",
    "value = Union[str,int,dict,list,tuple,set]\n",
    "\n",
    "data: Dict[key,value] = {\n",
    "                    \"name\":\"Hijab Rabail Khan\",\n",
    "                    \"fName\":\"Muhammad Arshad\",\n",
    "                    \"Education\":\"Bachelors in Applied Physics\",\n",
    "                    \"Age\":19,\n",
    "                    \"tnd\":\"Pakistan\",\n",
    "                    \"abc\": {\"a\":\"b\",\"b\":3}\n",
    "                    }\n",
    "\n",
    "data[\"Age\"] = 20\n",
    "print(data.get(\"Pakistan\",\"NA\"))\n",
    "print(data['Age'])\n",
    "print(data[\"abc\"][\"b\"])\n",
    "del data[\"tnd\"]\n",
    "print(data[\"name\"])\n",
    "\n",
    "for k in data.keys():\n",
    "    print(k)\n",
    "    \n",
    "for v in data.values():\n",
    "    print(v)\n",
    "    \n",
    "for k,v in data.items():\n",
    "    print(k,v)"
   ]
  },
  {
   "cell_type": "code",
   "execution_count": 29,
   "metadata": {},
   "outputs": [
    {
     "name": "stdout",
     "output_type": "stream",
     "text": [
      "{'name': 'Hijab Rabail Khan', 'fName': 'Muhammad Arshad', 'Education': 'Bachelors in Applied Physics', 'Age': 19, 'tnd': 'Pakistan'}\n"
     ]
    }
   ],
   "source": [
    "from typing import Dict,Union,Optional\n",
    "\n",
    "key = Union[str,int,list]\n",
    "value = Union[str,int,dict,list,tuple,set]\n",
    "\n",
    "data: Dict[key,value] = {\n",
    "                    \"name\":\"Hijab Rabail Khan\",\n",
    "                    \"fName\":\"Muhammad Arshad\",\n",
    "                    \"Education\":\"Bachelors in Applied Physics\",\n",
    "                    \"Age\":19,\n",
    "                    \"tnd\":\"Pakistan\",\n",
    "                    \"abc\": {\"a\":\"b\",\"b\":3}\n",
    "                    }\n",
    "\n",
    "data.pop(\"abc\")\n",
    "\n",
    "print(data)"
   ]
  },
  {
   "cell_type": "code",
   "execution_count": 30,
   "metadata": {},
   "outputs": [
    {
     "name": "stdout",
     "output_type": "stream",
     "text": [
      "{'name': 'Hijab Rabail Khan', 'fName': 'Muhammad Arshad', 'Education': 'Bachelors in Applied Physics', 'Age': 19, 'tnd': 'Pakistan'}\n"
     ]
    }
   ],
   "source": [
    "from typing import Dict,Union,Optional\n",
    "\n",
    "key = Union[str,int,list]\n",
    "value = Union[str,int,dict,list,tuple,set]\n",
    "\n",
    "data: Dict[key,value] = {\n",
    "                    \"name\":\"Hijab Rabail Khan\",\n",
    "                    \"fName\":\"Muhammad Arshad\",\n",
    "                    \"Education\":\"Bachelors in Applied Physics\",\n",
    "                    \"Age\":19,\n",
    "                    \"tnd\":\"Pakistan\",\n",
    "                    \"abc\": {\"a\":\"b\",\"b\":3}\n",
    "                    }\n",
    "\n",
    "data.popitem()\n",
    "\n",
    "print(data)"
   ]
  },
  {
   "cell_type": "code",
   "execution_count": 32,
   "metadata": {},
   "outputs": [
    {
     "name": "stdout",
     "output_type": "stream",
     "text": [
      "Pakistani\n"
     ]
    }
   ],
   "source": [
    "from typing import Dict,Union,Optional\n",
    "\n",
    "key = Union[str,int,list]\n",
    "value = Union[str,int,dict,list,tuple,set]\n",
    "\n",
    "data: Dict[key,value] = {\n",
    "                    \"name\":\"Hijab Rabail Khan\",\n",
    "                    \"fName\":\"Muhammad Arshad\",\n",
    "                    \"Education\":\"Bachelors in Applied Physics\",\n",
    "                    \"Age\":19,\n",
    "                    \"tnd\":\"Pakistan\",\n",
    "                    \"abc\": {\"a\":\"b\",\"b\":3}\n",
    "                    }\n",
    "\n",
    "data.setdefault(\"nationality\",\"Pakistani\")\n",
    "\n",
    "print(data.setdefault(\"nationality\",\"Pakistani\")) "
   ]
  },
  {
   "cell_type": "code",
   "execution_count": 33,
   "metadata": {},
   "outputs": [
    {
     "name": "stdout",
     "output_type": "stream",
     "text": [
      "{'name': 'Hijab Rabail Khan', 'fName': 'Muhammad Arshad', 'Education': 'Bachelors in Applied Physics', 'Age': 19, 'tnd': 'Pakistan', 'abc': {'a': 'b', 'b': 3}}\n",
      "{'name': 'Hijab Rabail Khan', 'fName': 'Muhammad Arshad', 'Education': 'Bachelors in Applied Physics', 'Age': 19, 'tnd': 'Pakistan', 'abc': {'a': 'b', 'b': 3}, 'Nationality': 'Pakistani', 'Sec Nationality': 'Turkey', 'City': 'Hyderabad'}\n"
     ]
    }
   ],
   "source": [
    "from typing import Dict,Union,Optional\n",
    "\n",
    "key = Union[str,int,list]\n",
    "value = Union[str,int,dict,list,tuple,set]\n",
    "\n",
    "data: Dict[key,value] = {\n",
    "                    \"name\":\"Hijab Rabail Khan\",\n",
    "                    \"fName\":\"Muhammad Arshad\",\n",
    "                    \"Education\":\"Bachelors in Applied Physics\",\n",
    "                    \"Age\":19,\n",
    "                    \"tnd\":\"Pakistan\",\n",
    "                    \"abc\": {\"a\":\"b\",\"b\":3}\n",
    "                    }\n",
    "\n",
    "\n",
    "data1: Dict[key ,value] = {\n",
    "                        \"Nationality\":\"Pakistani\",\n",
    "                        \"Sec Nationality\": \"Turkey\",\n",
    "                        \"City\":\"Hyderabad\"\n",
    "}\n",
    "\n",
    "print(data)\n",
    "\n",
    "data.update(data1)\n",
    "\n",
    "print(data)"
   ]
  },
  {
   "cell_type": "code",
   "execution_count": null,
   "metadata": {},
   "outputs": [],
   "source": []
  },
  {
   "cell_type": "code",
   "execution_count": 40,
   "metadata": {},
   "outputs": [
    {
     "name": "stdout",
     "output_type": "stream",
     "text": [
      "{'name': 'Hijabie', 'fName': None, 'age': None, 'id': None}\n"
     ]
    }
   ],
   "source": [
    "keys: list[str] = {\"id\",\"name\",\"fName\",\"age\"}\n",
    "\n",
    "datas: Dict[key , value] = {}\n",
    "\n",
    "datas[\"name\"]=\"Hijabie\"\n",
    "datas=datas.fromkeys(keys)\n",
    "\n",
    "print(datas)"
   ]
  },
  {
   "cell_type": "code",
   "execution_count": 43,
   "metadata": {},
   "outputs": [
    {
     "name": "stdout",
     "output_type": "stream",
     "text": [
      "Hijabie\n",
      "Rabail Khan\n",
      "20\n",
      "Hyderabad\n"
     ]
    }
   ],
   "source": [
    "# Exercise 6.1\n",
    "#  Use a dictionary to store information about a person you know.\n",
    "# Store their first name, last name, age, and the city in which they live. You \n",
    "# should have keys such as first_name, last_name, age, and city. Print each \n",
    "# piece of information stored in your dictionary.\n",
    "\n",
    "values = Union[str,int]\n",
    "person: Dict[str,values] = {\n",
    "                            \"first_name\":\"Hijabie\",\n",
    "                            \"last_name\":\"Rabail Khan\",\n",
    "                            \"Age\":20,\n",
    "                            \"City\":\"Hyderabad\"\n",
    "}\n",
    "\n",
    "print(person[\"first_name\"])\n",
    "print(person[\"last_name\"])\n",
    "print(person[\"Age\"])\n",
    "print(person[\"City\"])\n",
    "\n"
   ]
  }
 ],
 "metadata": {
  "kernelspec": {
   "display_name": "python12",
   "language": "python",
   "name": "python3"
  },
  "language_info": {
   "codemirror_mode": {
    "name": "ipython",
    "version": 3
   },
   "file_extension": ".py",
   "mimetype": "text/x-python",
   "name": "python",
   "nbconvert_exporter": "python",
   "pygments_lexer": "ipython3",
   "version": "3.12.0"
  }
 },
 "nbformat": 4,
 "nbformat_minor": 2
}
